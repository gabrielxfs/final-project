{
 "cells": [
  {
   "cell_type": "markdown",
   "metadata": {},
   "source": [
    "# Introdução"
   ]
  },
  {
   "cell_type": "markdown",
   "metadata": {},
   "source": [
    "## Importação das bibliotecas necessarias"
   ]
  },
  {
   "cell_type": "code",
   "execution_count": 4,
   "metadata": {},
   "outputs": [],
   "source": [
    "import requests\n",
    "import pandas as pd\n",
    "import os\n",
    "import json\n",
    "import sys\n",
    "import matplotlib.pyplot as plt\n",
    "import funcoes_comuns as fc\n",
    "from importlib import reload\n",
    "reload(fc)"
   ]
  },
  {
   "cell_type": "markdown",
   "metadata": {},
   "source": [
    "# Dataframe base de Código do município e Ano"
   ]
  },
  {
   "cell_type": "code",
   "execution_count": 5,
   "metadata": {},
   "outputs": [
    {
     "data": {
      "text/html": [
       "<div>\n",
       "<style scoped>\n",
       "    .dataframe tbody tr th:only-of-type {\n",
       "        vertical-align: middle;\n",
       "    }\n",
       "\n",
       "    .dataframe tbody tr th {\n",
       "        vertical-align: top;\n",
       "    }\n",
       "\n",
       "    .dataframe thead th {\n",
       "        text-align: right;\n",
       "    }\n",
       "</style>\n",
       "<table border=\"1\" class=\"dataframe\">\n",
       "  <thead>\n",
       "    <tr style=\"text-align: right;\">\n",
       "      <th></th>\n",
       "      <th>CODIGO_MUNICIPIO</th>\n",
       "      <th>ano_nasc</th>\n",
       "      <th>CODMUNRES</th>\n",
       "    </tr>\n",
       "  </thead>\n",
       "  <tbody>\n",
       "    <tr>\n",
       "      <th>0</th>\n",
       "      <td>1100015</td>\n",
       "      <td>2012</td>\n",
       "      <td>110001</td>\n",
       "    </tr>\n",
       "    <tr>\n",
       "      <th>1</th>\n",
       "      <td>1100015</td>\n",
       "      <td>2013</td>\n",
       "      <td>110001</td>\n",
       "    </tr>\n",
       "    <tr>\n",
       "      <th>2</th>\n",
       "      <td>1100015</td>\n",
       "      <td>2014</td>\n",
       "      <td>110001</td>\n",
       "    </tr>\n",
       "    <tr>\n",
       "      <th>3</th>\n",
       "      <td>1100015</td>\n",
       "      <td>2015</td>\n",
       "      <td>110001</td>\n",
       "    </tr>\n",
       "    <tr>\n",
       "      <th>4</th>\n",
       "      <td>1100015</td>\n",
       "      <td>2016</td>\n",
       "      <td>110001</td>\n",
       "    </tr>\n",
       "  </tbody>\n",
       "</table>\n",
       "</div>"
      ],
      "text/plain": [
       "  CODIGO_MUNICIPIO  ano_nasc CODMUNRES\n",
       "0          1100015      2012    110001\n",
       "1          1100015      2013    110001\n",
       "2          1100015      2014    110001\n",
       "3          1100015      2015    110001\n",
       "4          1100015      2016    110001"
      ]
     },
     "execution_count": 5,
     "metadata": {},
     "output_type": "execute_result"
    }
   ],
   "source": [
    "base_df = fc.get_tb_municipios()\n",
    "base_df.head()"
   ]
  },
  {
   "cell_type": "markdown",
   "metadata": {},
   "source": [
    "# Nascidos vivos de mulheres de 2012 a 2020"
   ]
  },
  {
   "cell_type": "code",
   "execution_count": 6,
   "metadata": {},
   "outputs": [
    {
     "name": "stdout",
     "output_type": "stream",
     "text": [
      "CPU times: user 3 µs, sys: 1 µs, total: 4 µs\n",
      "Wall time: 9.78 µs\n",
      "...................................................(y)\n",
      "Record rows length : 50268\n"
     ]
    }
   ],
   "source": [
    "%time\n",
    "df_t_nasc_vivos = fc.build_df_by_sql_query(\"SELECT CODMUNRES, ano_nasc, count(*) as TOTAL_DE_NASCIDOS_VIVOS \\\n",
    "                    FROM \\\"datasus-sinasc\\\" \\\n",
    "                    WHERE ano_nasc>=2012 AND \\\n",
    "                    ano_nasc<=2020 \\\n",
    "                    GROUP BY CODMUNRES, ano_nasc\")"
   ]
  },
  {
   "cell_type": "markdown",
   "metadata": {
    "toc-hr-collapsed": false
   },
   "source": [
    "# Quantidade de nascimentos por cesariana"
   ]
  },
  {
   "cell_type": "code",
   "execution_count": 7,
   "metadata": {},
   "outputs": [
    {
     "name": "stdout",
     "output_type": "stream",
     "text": [
      "CPU times: user 3 µs, sys: 1e+03 ns, total: 4 µs\n",
      "Wall time: 8.11 µs\n",
      "...................................................(y)\n",
      "Record rows length : 50237\n"
     ]
    }
   ],
   "source": [
    "%time\n",
    "df_cesariana = fc.build_df_by_sql_query(\"SELECT CODMUNRES, ano_nasc, count(*) as MULHERES_COM_PARTO_CESARIANA \\\n",
    "                    FROM \\\"datasus-sinasc\\\" \\\n",
    "                    WHERE ano_nasc>=2012 AND \\\n",
    "                    ano_nasc<=2020 AND \\\n",
    "                    PARTO=2 \\\n",
    "                    GROUP BY CODMUNRES, ano_nasc\")"
   ]
  },
  {
   "cell_type": "markdown",
   "metadata": {},
   "source": [
    "# Quantidade de nascidos vivos do grupo 1 de Robson"
   ]
  },
  {
   "cell_type": "code",
   "execution_count": 8,
   "metadata": {},
   "outputs": [
    {
     "name": "stdout",
     "output_type": "stream",
     "text": [
      "CPU times: user 3 µs, sys: 0 ns, total: 3 µs\n",
      "Wall time: 7.87 µs\n",
      ".............................................(y)\n",
      "Record rows length : 44051\n"
     ]
    }
   ],
   "source": [
    "%time\n",
    "df_1robson = fc.build_df_by_sql_query(\"SELECT CODMUNRES, ano_nasc, count(*) as MULHERES_DENTRO_DO_GRUPO_DE_ROBSON_1 \\\n",
    "                    FROM \\\"datasus-sinasc\\\" \\\n",
    "                    WHERE ano_nasc>=2012 AND \\\n",
    "                    ano_nasc<=2020 AND \\\n",
    "                    TPROBSON=1 \\\n",
    "                    GROUP BY CODMUNRES, ano_nasc\")"
   ]
  },
  {
   "cell_type": "markdown",
   "metadata": {},
   "source": [
    "# Quantidade de nascidos vivos do grupo 2 de Robson"
   ]
  },
  {
   "cell_type": "code",
   "execution_count": 9,
   "metadata": {},
   "outputs": [
    {
     "name": "stdout",
     "output_type": "stream",
     "text": [
      "CPU times: user 3 µs, sys: 1 µs, total: 4 µs\n",
      "Wall time: 7.87 µs\n",
      "............................................(y)\n",
      "Record rows length : 43459\n"
     ]
    }
   ],
   "source": [
    "%time\n",
    "df_2robson = fc.build_df_by_sql_query(\"SELECT CODMUNRES, ano_nasc, count(*) as MULHERES_DENTRO_DO_GRUPO_DE_ROBSON_2 \\\n",
    "                    FROM \\\"datasus-sinasc\\\" \\\n",
    "                    WHERE ano_nasc>=2012 AND \\\n",
    "                    ano_nasc<=2020 AND \\\n",
    "                    TPROBSON=2 \\\n",
    "                    GROUP BY CODMUNRES, ano_nasc\")"
   ]
  },
  {
   "cell_type": "markdown",
   "metadata": {},
   "source": [
    "# Quantidade de nascidos vivos do grupo 3 de Robson"
   ]
  },
  {
   "cell_type": "code",
   "execution_count": 10,
   "metadata": {},
   "outputs": [
    {
     "name": "stdout",
     "output_type": "stream",
     "text": [
      "CPU times: user 0 ns, sys: 0 ns, total: 0 ns\n",
      "Wall time: 0 ns\n",
      "............................................(y)\n",
      "Record rows length : 43839\n"
     ]
    }
   ],
   "source": [
    "%time\n",
    "df_3robson = fc.build_df_by_sql_query(\"SELECT CODMUNRES, ano_nasc, count(*) as MULHERES_DENTRO_DO_GRUPO_DE_ROBSON_3 \\\n",
    "                    FROM \\\"datasus-sinasc\\\" \\\n",
    "                    WHERE ano_nasc>=2012 AND \\\n",
    "                    ano_nasc<=2020 AND \\\n",
    "                    TPROBSON=3 \\\n",
    "                    GROUP BY CODMUNRES, ano_nasc\")"
   ]
  },
  {
   "cell_type": "markdown",
   "metadata": {},
   "source": [
    "# Quantidade de nascidos vivos do grupo 4 de Robson"
   ]
  },
  {
   "cell_type": "code",
   "execution_count": 11,
   "metadata": {},
   "outputs": [
    {
     "name": "stdout",
     "output_type": "stream",
     "text": [
      "CPU times: user 3 µs, sys: 1 µs, total: 4 µs\n",
      "Wall time: 7.87 µs\n",
      "...........................................(y)\n",
      "Record rows length : 42463\n"
     ]
    }
   ],
   "source": [
    "%time\n",
    "df_4robson = fc.build_df_by_sql_query(\"SELECT CODMUNRES, ano_nasc, count(*) as MULHERES_DENTRO_DO_GRUPO_DE_ROBSON_4 \\\n",
    "                    FROM \\\"datasus-sinasc\\\" \\\n",
    "                    WHERE ano_nasc>=2012 AND \\\n",
    "                    ano_nasc<=2020 AND \\\n",
    "                    TPROBSON=4 \\\n",
    "                    GROUP BY CODMUNRES, ano_nasc\")"
   ]
  },
  {
   "cell_type": "markdown",
   "metadata": {},
   "source": [
    "# Quantidade de nascidos vivos do grupo 5 de Robson"
   ]
  },
  {
   "cell_type": "code",
   "execution_count": 12,
   "metadata": {},
   "outputs": [
    {
     "name": "stdout",
     "output_type": "stream",
     "text": [
      "CPU times: user 4 µs, sys: 1 µs, total: 5 µs\n",
      "Wall time: 8.34 µs\n",
      ".............................................(y)\n",
      "Record rows length : 44483\n"
     ]
    }
   ],
   "source": [
    "%time\n",
    "df_5robson = fc.build_df_by_sql_query(\"SELECT CODMUNRES, ano_nasc, count(*) as MULHERES_DENTRO_DO_GRUPO_DE_ROBSON_5 \\\n",
    "                    FROM \\\"datasus-sinasc\\\" \\\n",
    "                    WHERE ano_nasc>=2012 AND \\\n",
    "                    ano_nasc<=2020 AND \\\n",
    "                    TPROBSON=5 \\\n",
    "                    GROUP BY CODMUNRES, ano_nasc\")"
   ]
  },
  {
   "cell_type": "markdown",
   "metadata": {},
   "source": [
    "# Quantidade de nascidos vivos do grupo 6 a 9 de Robson"
   ]
  },
  {
   "cell_type": "code",
   "execution_count": 13,
   "metadata": {},
   "outputs": [
    {
     "name": "stdout",
     "output_type": "stream",
     "text": [
      "CPU times: user 4 µs, sys: 1 µs, total: 5 µs\n",
      "Wall time: 7.87 µs\n",
      "..........................................(y)\n",
      "Record rows length : 41761\n"
     ]
    }
   ],
   "source": [
    "%time\n",
    "df_6_a_9robson = fc.build_df_by_sql_query(\"SELECT CODMUNRES, ano_nasc, count(*) as MULHERES_DENTRO_DO_GRUPO_DE_ROBSON_6_ao_9 \\\n",
    "                    FROM \\\"datasus-sinasc\\\" \\\n",
    "                    WHERE ano_nasc>=2012 AND \\\n",
    "                    ano_nasc<=2020 AND \\\n",
    "                    TPROBSON>=6 AND TPROBSON <=9 \\\n",
    "                    GROUP BY CODMUNRES, ano_nasc\")"
   ]
  },
  {
   "cell_type": "markdown",
   "metadata": {},
   "source": [
    "# Quantidade de nascidos vivos do grupo 10 de Robson"
   ]
  },
  {
   "cell_type": "code",
   "execution_count": 14,
   "metadata": {},
   "outputs": [
    {
     "name": "stdout",
     "output_type": "stream",
     "text": [
      "CPU times: user 0 ns, sys: 0 ns, total: 0 ns\n",
      "Wall time: 0 ns\n",
      "............................................(y)\n",
      "Record rows length : 43733\n"
     ]
    }
   ],
   "source": [
    "%time\n",
    "df_10robson = fc.build_df_by_sql_query(\"SELECT CODMUNRES, ano_nasc, count(*) as MULHERES_DENTRO_DO_GRUPO_DE_ROBSON_10 \\\n",
    "                    FROM \\\"datasus-sinasc\\\" \\\n",
    "                    WHERE ano_nasc>=2012 AND \\\n",
    "                    ano_nasc<=2020 AND \\\n",
    "                    TPROBSON=10 \\\n",
    "                    GROUP BY CODMUNRES, ano_nasc\")"
   ]
  },
  {
   "cell_type": "markdown",
   "metadata": {},
   "source": [
    "# Contribuição relativa do grupo 1 de Robson para a taxa global de cesariana"
   ]
  },
  {
   "cell_type": "code",
   "execution_count": 15,
   "metadata": {},
   "outputs": [
    {
     "name": "stdout",
     "output_type": "stream",
     "text": [
      "CPU times: user 4 µs, sys: 0 ns, total: 4 µs\n",
      "Wall time: 8.82 µs\n",
      "...........................................(y)\n",
      "Record rows length : 42746\n"
     ]
    }
   ],
   "source": [
    "%time\n",
    "df_1robson_tx_cesaria = fc.build_df_by_sql_query(\"SELECT CODMUNRES, ano_nasc, count(*) as TOTAL_CESARIANA_GRUPO_ROBSON_1 \\\n",
    "                    FROM \\\"datasus-sinasc\\\" \\\n",
    "                    WHERE ano_nasc>=2012 AND \\\n",
    "                    ano_nasc<=2020 AND \\\n",
    "                    TPROBSON=1 AND PARTO=2 \\\n",
    "                    GROUP BY CODMUNRES, ano_nasc\")"
   ]
  },
  {
   "cell_type": "markdown",
   "metadata": {},
   "source": [
    "# Contribuição relativa do grupo 2 de Robson para taxa global de cesariana"
   ]
  },
  {
   "cell_type": "code",
   "execution_count": 16,
   "metadata": {},
   "outputs": [
    {
     "name": "stdout",
     "output_type": "stream",
     "text": [
      "CPU times: user 3 µs, sys: 1 µs, total: 4 µs\n",
      "Wall time: 7.87 µs\n",
      "...........................................(y)\n",
      "Record rows length : 42638\n"
     ]
    }
   ],
   "source": [
    "%time\n",
    "df_2robson_tx_cesaria = fc.build_df_by_sql_query(\"SELECT CODMUNRES, ano_nasc, count(*) as TOTAL_CESARIANA_GRUPO_ROBSON_2 \\\n",
    "                    FROM \\\"datasus-sinasc\\\" \\\n",
    "                    WHERE ano_nasc>=2012 AND \\\n",
    "                    ano_nasc<=2020 AND \\\n",
    "                    TPROBSON=2 AND PARTO=2 \\\n",
    "                    GROUP BY CODMUNRES, ano_nasc\")"
   ]
  },
  {
   "cell_type": "markdown",
   "metadata": {},
   "source": [
    "# Contribuição relativa do grupo 3 de Robson para taxa global de cesariana"
   ]
  },
  {
   "cell_type": "code",
   "execution_count": 17,
   "metadata": {},
   "outputs": [
    {
     "name": "stdout",
     "output_type": "stream",
     "text": [
      "CPU times: user 3 µs, sys: 0 ns, total: 3 µs\n",
      "Wall time: 7.39 µs\n",
      "........................................(y)\n",
      "Record rows length : 39004\n"
     ]
    }
   ],
   "source": [
    "%time\n",
    "df_3robson_tx_cesaria = fc.build_df_by_sql_query(\"SELECT CODMUNRES, ano_nasc, count(*) as TOTAL_CESARIANA_GRUPO_ROBSON_3 \\\n",
    "                    FROM \\\"datasus-sinasc\\\" \\\n",
    "                    WHERE ano_nasc>=2012 AND \\\n",
    "                    ano_nasc<=2020 AND \\\n",
    "                    TPROBSON=3 AND PARTO=2 \\\n",
    "                    GROUP BY CODMUNRES, ano_nasc\")"
   ]
  },
  {
   "cell_type": "markdown",
   "metadata": {},
   "source": [
    "# Contribuição relativa do grupo 4 de Robson para taxa global de cesariana"
   ]
  },
  {
   "cell_type": "code",
   "execution_count": 18,
   "metadata": {},
   "outputs": [
    {
     "name": "stdout",
     "output_type": "stream",
     "text": [
      "CPU times: user 0 ns, sys: 0 ns, total: 0 ns\n",
      "Wall time: 0 ns\n",
      "........................................(y)\n",
      "Record rows length : 39633\n"
     ]
    }
   ],
   "source": [
    "%time\n",
    "df_4robson_tx_cesaria = fc.build_df_by_sql_query(\"SELECT CODMUNRES, ano_nasc, count(*) as TOTAL_CESARIANA_GRUPO_ROBSON_4 \\\n",
    "                    FROM \\\"datasus-sinasc\\\" \\\n",
    "                    WHERE ano_nasc>=2012 AND \\\n",
    "                    ano_nasc<=2020 AND \\\n",
    "                    TPROBSON=4 AND PARTO=2 \\\n",
    "                    GROUP BY CODMUNRES, ano_nasc\")"
   ]
  },
  {
   "cell_type": "markdown",
   "metadata": {},
   "source": [
    "# Contribuição relativa do grupo 5 de Robson para taxa global de cesariana"
   ]
  },
  {
   "cell_type": "code",
   "execution_count": 19,
   "metadata": {},
   "outputs": [
    {
     "name": "stdout",
     "output_type": "stream",
     "text": [
      "CPU times: user 0 ns, sys: 0 ns, total: 0 ns\n",
      "Wall time: 0 ns\n",
      ".............................................(y)\n",
      "Record rows length : 44417\n"
     ]
    }
   ],
   "source": [
    "%time\n",
    "df_5robson_tx_cesaria = fc.build_df_by_sql_query(\"SELECT CODMUNRES, ano_nasc, count(*) as TOTAL_CESARIANA_GRUPO_ROBSON_5 \\\n",
    "                    FROM \\\"datasus-sinasc\\\" \\\n",
    "                    WHERE ano_nasc>=2012 AND \\\n",
    "                    ano_nasc<=2020 AND \\\n",
    "                    TPROBSON=5 AND PARTO=2 \\\n",
    "                    GROUP BY CODMUNRES, ano_nasc\")"
   ]
  },
  {
   "cell_type": "markdown",
   "metadata": {},
   "source": [
    "# Contribuição relativa do grupo 6 a 9 de Robson para taxa global de cesariana"
   ]
  },
  {
   "cell_type": "code",
   "execution_count": 20,
   "metadata": {},
   "outputs": [
    {
     "name": "stdout",
     "output_type": "stream",
     "text": [
      "CPU times: user 13 µs, sys: 2 µs, total: 15 µs\n",
      "Wall time: 19.1 µs\n",
      "..........................................(y)\n",
      "Record rows length : 41021\n"
     ]
    }
   ],
   "source": [
    "%time\n",
    "df_6_a_9robson_tx_cesaria = fc.build_df_by_sql_query(\"SELECT CODMUNRES, ano_nasc, count(*) as TOTAL_CESARIANA_GRUPO_ROBSON_6_ao_9 \\\n",
    "                    FROM \\\"datasus-sinasc\\\" \\\n",
    "                    WHERE ano_nasc>=2012 AND \\\n",
    "                    ano_nasc<=2020 AND \\\n",
    "                    TPROBSON>=6 AND TPROBSON <=9 AND PARTO=2 \\\n",
    "                    GROUP BY CODMUNRES, ano_nasc\")"
   ]
  },
  {
   "cell_type": "markdown",
   "metadata": {},
   "source": [
    "# Contribuição relativa do grupo 10 de Robson para taxa global de cesariana"
   ]
  },
  {
   "cell_type": "code",
   "execution_count": 21,
   "metadata": {},
   "outputs": [
    {
     "name": "stdout",
     "output_type": "stream",
     "text": [
      "CPU times: user 0 ns, sys: 0 ns, total: 0 ns\n",
      "Wall time: 2.15 µs\n",
      "..........................................(y)\n",
      "Record rows length : 41870\n"
     ]
    }
   ],
   "source": [
    "%time\n",
    "df_10robson_tx_cesaria = fc.build_df_by_sql_query(\"SELECT CODMUNRES, ano_nasc, count(*) as TOTAL_CESARIANA_GRUPO_ROBSON_10 \\\n",
    "                    FROM \\\"datasus-sinasc\\\" \\\n",
    "                    WHERE ano_nasc>=2012 AND \\\n",
    "                    ano_nasc<=2020 AND \\\n",
    "                    TPROBSON=10 AND PARTO=2 \\\n",
    "                    GROUP BY CODMUNRES, ano_nasc\")"
   ]
  },
  {
   "cell_type": "markdown",
   "metadata": {},
   "source": [
    "# Finalização"
   ]
  },
  {
   "cell_type": "code",
   "execution_count": 22,
   "metadata": {},
   "outputs": [],
   "source": [
    "# Conversão do CODMUNRES para inteiro, para que seja possível a junção\n",
    "base_df['CODMUNRES']=base_df['CODMUNRES'].astype(int)\n",
    "df_t_nasc_vivos['CODMUNRES']=df_t_nasc_vivos['CODMUNRES'].astype(int)\n",
    "df_cesariana['CODMUNRES']=df_cesariana['CODMUNRES'].astype(int)\n",
    "df_1robson['CODMUNRES']=df_1robson['CODMUNRES'].astype(int)\n",
    "df_2robson['CODMUNRES']=df_2robson['CODMUNRES'].astype(int)\n",
    "df_3robson['CODMUNRES']=df_3robson['CODMUNRES'].astype(int)\n",
    "df_4robson['CODMUNRES']=df_4robson['CODMUNRES'].astype(int)\n",
    "df_5robson['CODMUNRES']=df_5robson['CODMUNRES'].astype(int)\n",
    "df_6_a_9robson['CODMUNRES']=df_6_a_9robson['CODMUNRES'].astype(int)\n",
    "df_10robson['CODMUNRES']=df_10robson['CODMUNRES'].astype(int)\n",
    "df_1robson_tx_cesaria['CODMUNRES']=df_1robson_tx_cesaria['CODMUNRES'].astype(int)\n",
    "df_2robson_tx_cesaria['CODMUNRES']=df_2robson_tx_cesaria['CODMUNRES'].astype(int)\n",
    "df_3robson_tx_cesaria['CODMUNRES']=df_3robson_tx_cesaria['CODMUNRES'].astype(int)\n",
    "df_4robson_tx_cesaria['CODMUNRES']=df_4robson_tx_cesaria['CODMUNRES'].astype(int)\n",
    "df_5robson_tx_cesaria['CODMUNRES']=df_5robson_tx_cesaria['CODMUNRES'].astype(int)\n",
    "df_6_a_9robson_tx_cesaria['CODMUNRES']=df_6_a_9robson_tx_cesaria['CODMUNRES'].astype(int)\n",
    "df_10robson_tx_cesaria['CODMUNRES']=df_10robson_tx_cesaria['CODMUNRES'].astype(int)\n",
    "\n",
    "# Junção em um dataframe final\n",
    "df_final = pd.merge(base_df, df_t_nasc_vivos, how='left', on=['CODMUNRES','ano_nasc'])\n",
    "df_final = pd.merge(df_final, df_cesariana, how='left', on=['CODMUNRES','ano_nasc'])\n",
    "df_final = pd.merge(df_final, df_1robson, how='left', on=['CODMUNRES','ano_nasc'])\n",
    "df_final = pd.merge(df_final, df_2robson, how='left', on=['CODMUNRES','ano_nasc'])\n",
    "df_final = pd.merge(df_final, df_3robson, how='left', on=['CODMUNRES','ano_nasc'])\n",
    "df_final = pd.merge(df_final, df_4robson, how='left', on=['CODMUNRES','ano_nasc'])\n",
    "df_final = pd.merge(df_final, df_5robson, how='left', on=['CODMUNRES','ano_nasc'])\n",
    "df_final = pd.merge(df_final, df_6_a_9robson, how='left', on=['CODMUNRES','ano_nasc'])\n",
    "df_final = pd.merge(df_final, df_10robson, how='left', on=['CODMUNRES','ano_nasc'])\n",
    "df_final = pd.merge(df_final, df_1robson_tx_cesaria, how='left', on=['CODMUNRES','ano_nasc'])\n",
    "df_final = pd.merge(df_final, df_2robson_tx_cesaria, how='left', on=['CODMUNRES','ano_nasc'])\n",
    "df_final = pd.merge(df_final, df_3robson_tx_cesaria, how='left', on=['CODMUNRES','ano_nasc'])\n",
    "df_final = pd.merge(df_final, df_4robson_tx_cesaria, how='left', on=['CODMUNRES','ano_nasc'])\n",
    "df_final = pd.merge(df_final, df_5robson_tx_cesaria, how='left', on=['CODMUNRES','ano_nasc'])\n",
    "df_final = pd.merge(df_final, df_6_a_9robson_tx_cesaria, how='left', on=['CODMUNRES','ano_nasc'])\n",
    "df_final = pd.merge(df_final, df_10robson_tx_cesaria, how='left', on=['CODMUNRES','ano_nasc'])\n",
    "\n",
    "# Preencher NaN com zeros\n",
    "df_final = df_final.fillna(0)\n",
    "df_final.rename(columns={'ano_nasc': 'ANO_NASCIMENTO'},\n",
    "               inplace=True)\n",
    "\n",
    "del df_final['CODIGO_MUNICIPIO']\n",
    "\n",
    "aux = [i for i in range(len(df_final.columns.values.tolist()))]\n",
    "aux[0] = 1\n",
    "aux[1] = 0\n",
    "df_final = df_final.iloc[:, aux]"
   ]
  },
  {
   "cell_type": "code",
   "execution_count": 23,
   "metadata": {},
   "outputs": [
    {
     "data": {
      "text/html": [
       "<div>\n",
       "<style scoped>\n",
       "    .dataframe tbody tr th:only-of-type {\n",
       "        vertical-align: middle;\n",
       "    }\n",
       "\n",
       "    .dataframe tbody tr th {\n",
       "        vertical-align: top;\n",
       "    }\n",
       "\n",
       "    .dataframe thead th {\n",
       "        text-align: right;\n",
       "    }\n",
       "</style>\n",
       "<table border=\"1\" class=\"dataframe\">\n",
       "  <thead>\n",
       "    <tr style=\"text-align: right;\">\n",
       "      <th></th>\n",
       "      <th>CODMUNRES</th>\n",
       "      <th>ANO_NASCIMENTO</th>\n",
       "      <th>TOTAL_DE_NASCIDOS_VIVOS</th>\n",
       "      <th>MULHERES_COM_PARTO_CESARIANA</th>\n",
       "      <th>MULHERES_DENTRO_DO_GRUPO_DE_ROBSON_1</th>\n",
       "      <th>MULHERES_DENTRO_DO_GRUPO_DE_ROBSON_2</th>\n",
       "      <th>MULHERES_DENTRO_DO_GRUPO_DE_ROBSON_3</th>\n",
       "      <th>MULHERES_DENTRO_DO_GRUPO_DE_ROBSON_4</th>\n",
       "      <th>MULHERES_DENTRO_DO_GRUPO_DE_ROBSON_5</th>\n",
       "      <th>MULHERES_DENTRO_DO_GRUPO_DE_ROBSON_6_ao_9</th>\n",
       "      <th>MULHERES_DENTRO_DO_GRUPO_DE_ROBSON_10</th>\n",
       "      <th>TOTAL_CESARIANA_GRUPO_ROBSON_1</th>\n",
       "      <th>TOTAL_CESARIANA_GRUPO_ROBSON_2</th>\n",
       "      <th>TOTAL_CESARIANA_GRUPO_ROBSON_3</th>\n",
       "      <th>TOTAL_CESARIANA_GRUPO_ROBSON_4</th>\n",
       "      <th>TOTAL_CESARIANA_GRUPO_ROBSON_5</th>\n",
       "      <th>TOTAL_CESARIANA_GRUPO_ROBSON_6_ao_9</th>\n",
       "      <th>TOTAL_CESARIANA_GRUPO_ROBSON_10</th>\n",
       "    </tr>\n",
       "  </thead>\n",
       "  <tbody>\n",
       "    <tr>\n",
       "      <th>0</th>\n",
       "      <td>110001</td>\n",
       "      <td>2012</td>\n",
       "      <td>386.0</td>\n",
       "      <td>267.0</td>\n",
       "      <td>95.0</td>\n",
       "      <td>21.0</td>\n",
       "      <td>97.0</td>\n",
       "      <td>4.0</td>\n",
       "      <td>105.0</td>\n",
       "      <td>21.0</td>\n",
       "      <td>33.0</td>\n",
       "      <td>72.0</td>\n",
       "      <td>21.0</td>\n",
       "      <td>28.0</td>\n",
       "      <td>2.0</td>\n",
       "      <td>97.0</td>\n",
       "      <td>20.0</td>\n",
       "      <td>22.0</td>\n",
       "    </tr>\n",
       "    <tr>\n",
       "      <th>1</th>\n",
       "      <td>110001</td>\n",
       "      <td>2013</td>\n",
       "      <td>382.0</td>\n",
       "      <td>272.0</td>\n",
       "      <td>0.0</td>\n",
       "      <td>0.0</td>\n",
       "      <td>0.0</td>\n",
       "      <td>0.0</td>\n",
       "      <td>0.0</td>\n",
       "      <td>0.0</td>\n",
       "      <td>0.0</td>\n",
       "      <td>0.0</td>\n",
       "      <td>0.0</td>\n",
       "      <td>0.0</td>\n",
       "      <td>0.0</td>\n",
       "      <td>0.0</td>\n",
       "      <td>0.0</td>\n",
       "      <td>0.0</td>\n",
       "    </tr>\n",
       "    <tr>\n",
       "      <th>2</th>\n",
       "      <td>110001</td>\n",
       "      <td>2014</td>\n",
       "      <td>341.0</td>\n",
       "      <td>238.0</td>\n",
       "      <td>83.0</td>\n",
       "      <td>14.0</td>\n",
       "      <td>81.0</td>\n",
       "      <td>9.0</td>\n",
       "      <td>108.0</td>\n",
       "      <td>21.0</td>\n",
       "      <td>22.0</td>\n",
       "      <td>66.0</td>\n",
       "      <td>12.0</td>\n",
       "      <td>22.0</td>\n",
       "      <td>6.0</td>\n",
       "      <td>102.0</td>\n",
       "      <td>16.0</td>\n",
       "      <td>11.0</td>\n",
       "    </tr>\n",
       "    <tr>\n",
       "      <th>3</th>\n",
       "      <td>110001</td>\n",
       "      <td>2015</td>\n",
       "      <td>373.0</td>\n",
       "      <td>271.0</td>\n",
       "      <td>105.0</td>\n",
       "      <td>22.0</td>\n",
       "      <td>70.0</td>\n",
       "      <td>9.0</td>\n",
       "      <td>116.0</td>\n",
       "      <td>17.0</td>\n",
       "      <td>28.0</td>\n",
       "      <td>84.0</td>\n",
       "      <td>20.0</td>\n",
       "      <td>20.0</td>\n",
       "      <td>7.0</td>\n",
       "      <td>111.0</td>\n",
       "      <td>11.0</td>\n",
       "      <td>14.0</td>\n",
       "    </tr>\n",
       "    <tr>\n",
       "      <th>4</th>\n",
       "      <td>110001</td>\n",
       "      <td>2016</td>\n",
       "      <td>326.0</td>\n",
       "      <td>226.0</td>\n",
       "      <td>91.0</td>\n",
       "      <td>14.0</td>\n",
       "      <td>79.0</td>\n",
       "      <td>4.0</td>\n",
       "      <td>90.0</td>\n",
       "      <td>13.0</td>\n",
       "      <td>27.0</td>\n",
       "      <td>61.0</td>\n",
       "      <td>14.0</td>\n",
       "      <td>34.0</td>\n",
       "      <td>4.0</td>\n",
       "      <td>84.0</td>\n",
       "      <td>9.0</td>\n",
       "      <td>15.0</td>\n",
       "    </tr>\n",
       "  </tbody>\n",
       "</table>\n",
       "</div>"
      ],
      "text/plain": [
       "   CODMUNRES  ANO_NASCIMENTO  TOTAL_DE_NASCIDOS_VIVOS  \\\n",
       "0     110001            2012                    386.0   \n",
       "1     110001            2013                    382.0   \n",
       "2     110001            2014                    341.0   \n",
       "3     110001            2015                    373.0   \n",
       "4     110001            2016                    326.0   \n",
       "\n",
       "   MULHERES_COM_PARTO_CESARIANA  MULHERES_DENTRO_DO_GRUPO_DE_ROBSON_1  \\\n",
       "0                         267.0                                  95.0   \n",
       "1                         272.0                                   0.0   \n",
       "2                         238.0                                  83.0   \n",
       "3                         271.0                                 105.0   \n",
       "4                         226.0                                  91.0   \n",
       "\n",
       "   MULHERES_DENTRO_DO_GRUPO_DE_ROBSON_2  MULHERES_DENTRO_DO_GRUPO_DE_ROBSON_3  \\\n",
       "0                                  21.0                                  97.0   \n",
       "1                                   0.0                                   0.0   \n",
       "2                                  14.0                                  81.0   \n",
       "3                                  22.0                                  70.0   \n",
       "4                                  14.0                                  79.0   \n",
       "\n",
       "   MULHERES_DENTRO_DO_GRUPO_DE_ROBSON_4  MULHERES_DENTRO_DO_GRUPO_DE_ROBSON_5  \\\n",
       "0                                   4.0                                 105.0   \n",
       "1                                   0.0                                   0.0   \n",
       "2                                   9.0                                 108.0   \n",
       "3                                   9.0                                 116.0   \n",
       "4                                   4.0                                  90.0   \n",
       "\n",
       "   MULHERES_DENTRO_DO_GRUPO_DE_ROBSON_6_ao_9  \\\n",
       "0                                       21.0   \n",
       "1                                        0.0   \n",
       "2                                       21.0   \n",
       "3                                       17.0   \n",
       "4                                       13.0   \n",
       "\n",
       "   MULHERES_DENTRO_DO_GRUPO_DE_ROBSON_10  TOTAL_CESARIANA_GRUPO_ROBSON_1  \\\n",
       "0                                   33.0                            72.0   \n",
       "1                                    0.0                             0.0   \n",
       "2                                   22.0                            66.0   \n",
       "3                                   28.0                            84.0   \n",
       "4                                   27.0                            61.0   \n",
       "\n",
       "   TOTAL_CESARIANA_GRUPO_ROBSON_2  TOTAL_CESARIANA_GRUPO_ROBSON_3  \\\n",
       "0                            21.0                            28.0   \n",
       "1                             0.0                             0.0   \n",
       "2                            12.0                            22.0   \n",
       "3                            20.0                            20.0   \n",
       "4                            14.0                            34.0   \n",
       "\n",
       "   TOTAL_CESARIANA_GRUPO_ROBSON_4  TOTAL_CESARIANA_GRUPO_ROBSON_5  \\\n",
       "0                             2.0                            97.0   \n",
       "1                             0.0                             0.0   \n",
       "2                             6.0                           102.0   \n",
       "3                             7.0                           111.0   \n",
       "4                             4.0                            84.0   \n",
       "\n",
       "   TOTAL_CESARIANA_GRUPO_ROBSON_6_ao_9  TOTAL_CESARIANA_GRUPO_ROBSON_10  \n",
       "0                                 20.0                             22.0  \n",
       "1                                  0.0                              0.0  \n",
       "2                                 16.0                             11.0  \n",
       "3                                 11.0                             14.0  \n",
       "4                                  9.0                             15.0  "
      ]
     },
     "execution_count": 23,
     "metadata": {},
     "output_type": "execute_result"
    }
   ],
   "source": [
    "df_final.head()"
   ]
  },
  {
   "cell_type": "code",
   "execution_count": 24,
   "metadata": {},
   "outputs": [
    {
     "data": {
      "text/plain": [
       "['CODMUNRES',\n",
       " 'ANO_NASCIMENTO',\n",
       " 'TOTAL_DE_NASCIDOS_VIVOS',\n",
       " 'MULHERES_COM_PARTO_CESARIANA',\n",
       " 'MULHERES_DENTRO_DO_GRUPO_DE_ROBSON_1',\n",
       " 'MULHERES_DENTRO_DO_GRUPO_DE_ROBSON_2',\n",
       " 'MULHERES_DENTRO_DO_GRUPO_DE_ROBSON_3',\n",
       " 'MULHERES_DENTRO_DO_GRUPO_DE_ROBSON_4',\n",
       " 'MULHERES_DENTRO_DO_GRUPO_DE_ROBSON_5',\n",
       " 'MULHERES_DENTRO_DO_GRUPO_DE_ROBSON_6_ao_9',\n",
       " 'MULHERES_DENTRO_DO_GRUPO_DE_ROBSON_10',\n",
       " 'TOTAL_CESARIANA_GRUPO_ROBSON_1',\n",
       " 'TOTAL_CESARIANA_GRUPO_ROBSON_2',\n",
       " 'TOTAL_CESARIANA_GRUPO_ROBSON_3',\n",
       " 'TOTAL_CESARIANA_GRUPO_ROBSON_4',\n",
       " 'TOTAL_CESARIANA_GRUPO_ROBSON_5',\n",
       " 'TOTAL_CESARIANA_GRUPO_ROBSON_6_ao_9',\n",
       " 'TOTAL_CESARIANA_GRUPO_ROBSON_10']"
      ]
     },
     "execution_count": 24,
     "metadata": {},
     "output_type": "execute_result"
    }
   ],
   "source": [
    "df_final.columns.values.tolist()"
   ]
  },
  {
   "cell_type": "code",
   "execution_count": 25,
   "metadata": {},
   "outputs": [],
   "source": [
    "df_final.to_csv('./indicadores_bloco4_assistencia_ao_parto_2012-2020.csv',index=False)"
   ]
  },
  {
   "cell_type": "code",
   "execution_count": null,
   "metadata": {},
   "outputs": [],
   "source": []
  }
 ],
 "metadata": {
  "kernelspec": {
   "display_name": "Python 3 (ipykernel)",
   "language": "python",
   "name": "python3"
  },
  "language_info": {
   "codemirror_mode": {
    "name": "ipython",
    "version": 3
   },
   "file_extension": ".py",
   "mimetype": "text/x-python",
   "name": "python",
   "nbconvert_exporter": "python",
   "pygments_lexer": "ipython3",
   "version": "3.8.10"
  },
  "toc-autonumbering": true,
  "toc-showcode": false,
  "toc-showmarkdowntxt": true
 },
 "nbformat": 4,
 "nbformat_minor": 4
}
