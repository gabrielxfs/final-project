{
 "cells": [
  {
   "cell_type": "markdown",
   "metadata": {},
   "source": [
    "# Introdução"
   ]
  },
  {
   "cell_type": "markdown",
   "metadata": {},
   "source": [
    "## Importação das bibliotecas necessarias"
   ]
  },
  {
   "cell_type": "code",
   "execution_count": 3,
   "metadata": {},
   "outputs": [],
   "source": [
    "import requests\n",
    "import pandas as pd\n",
    "import os\n",
    "import json\n",
    "import sys\n",
    "import matplotlib.pyplot as plt\n",
    "import funcoes_comuns as fc\n",
    "from importlib import reload\n",
    "reload(fc)"
   ]
  },
  {
   "cell_type": "markdown",
   "metadata": {},
   "source": [
    "# Dataframe base de Código do município e Ano"
   ]
  },
  {
   "cell_type": "code",
   "execution_count": 4,
   "metadata": {},
   "outputs": [
    {
     "data": {
      "text/html": [
       "<div>\n",
       "<style scoped>\n",
       "    .dataframe tbody tr th:only-of-type {\n",
       "        vertical-align: middle;\n",
       "    }\n",
       "\n",
       "    .dataframe tbody tr th {\n",
       "        vertical-align: top;\n",
       "    }\n",
       "\n",
       "    .dataframe thead th {\n",
       "        text-align: right;\n",
       "    }\n",
       "</style>\n",
       "<table border=\"1\" class=\"dataframe\">\n",
       "  <thead>\n",
       "    <tr style=\"text-align: right;\">\n",
       "      <th></th>\n",
       "      <th>CODIGO_MUNICIPIO</th>\n",
       "      <th>ano_nasc</th>\n",
       "      <th>CODMUNRES</th>\n",
       "    </tr>\n",
       "  </thead>\n",
       "  <tbody>\n",
       "    <tr>\n",
       "      <th>0</th>\n",
       "      <td>1100015</td>\n",
       "      <td>2012</td>\n",
       "      <td>110001</td>\n",
       "    </tr>\n",
       "    <tr>\n",
       "      <th>1</th>\n",
       "      <td>1100015</td>\n",
       "      <td>2013</td>\n",
       "      <td>110001</td>\n",
       "    </tr>\n",
       "    <tr>\n",
       "      <th>2</th>\n",
       "      <td>1100015</td>\n",
       "      <td>2014</td>\n",
       "      <td>110001</td>\n",
       "    </tr>\n",
       "    <tr>\n",
       "      <th>3</th>\n",
       "      <td>1100015</td>\n",
       "      <td>2015</td>\n",
       "      <td>110001</td>\n",
       "    </tr>\n",
       "    <tr>\n",
       "      <th>4</th>\n",
       "      <td>1100015</td>\n",
       "      <td>2016</td>\n",
       "      <td>110001</td>\n",
       "    </tr>\n",
       "  </tbody>\n",
       "</table>\n",
       "</div>"
      ],
      "text/plain": [
       "  CODIGO_MUNICIPIO  ano_nasc CODMUNRES\n",
       "0          1100015      2012    110001\n",
       "1          1100015      2013    110001\n",
       "2          1100015      2014    110001\n",
       "3          1100015      2015    110001\n",
       "4          1100015      2016    110001"
      ]
     },
     "execution_count": 4,
     "metadata": {},
     "output_type": "execute_result"
    }
   ],
   "source": [
    "base_df = fc.get_tb_municipios()\n",
    "base_df.head()"
   ]
  },
  {
   "cell_type": "markdown",
   "metadata": {},
   "source": [
    "# Nascidos vivos de mulheres de 2012 a 2020"
   ]
  },
  {
   "cell_type": "code",
   "execution_count": 6,
   "metadata": {},
   "outputs": [
    {
     "name": "stdout",
     "output_type": "stream",
     "text": [
      "CPU times: user 3 µs, sys: 1 µs, total: 4 µs\n",
      "Wall time: 8.34 µs\n",
      "...................................................(y)\n",
      "Record rows length : 50268\n"
     ]
    }
   ],
   "source": [
    "%time\n",
    "df_t_nasc_vivos = fc.build_df_by_sql_query(\"SELECT CODMUNRES, ano_nasc, count(*) as TOTAL_DE_NASCIDOS_VIVOS \\\n",
    "                    FROM \\\"datasus-sinasc\\\" \\\n",
    "                    WHERE ano_nasc>=2012 AND \\\n",
    "                    ano_nasc<=2020 \\\n",
    "                    GROUP BY CODMUNRES, ano_nasc\")"
   ]
  },
  {
   "cell_type": "markdown",
   "metadata": {
    "toc-hr-collapsed": false
   },
   "source": [
    "# Número de nascidos vivos de mulheres com menos de 20 anos"
   ]
  },
  {
   "cell_type": "code",
   "execution_count": 7,
   "metadata": {},
   "outputs": [
    {
     "name": "stdout",
     "output_type": "stream",
     "text": [
      "CPU times: user 0 ns, sys: 0 ns, total: 0 ns\n",
      "Wall time: 0 ns\n",
      "..................................................(y)\n",
      "Record rows length : 49810\n"
     ]
    }
   ],
   "source": [
    "%time\n",
    "df_nvm_menor_20 = fc.build_df_by_sql_query(\"SELECT CODMUNRES, ano_nasc, count(*) as NVM_MENOR_QUE_20 \\\n",
    "                    FROM \\\"datasus-sinasc\\\" \\\n",
    "                    WHERE ano_nasc>=2012 AND \\\n",
    "                    ano_nasc<=2020 AND \\\n",
    "                    IDADEMAE<20 \\\n",
    "                    GROUP BY CODMUNRES, ano_nasc\")"
   ]
  },
  {
   "cell_type": "markdown",
   "metadata": {},
   "source": [
    "# Número de mulheres com mais de três partos anteriores"
   ]
  },
  {
   "cell_type": "code",
   "execution_count": 8,
   "metadata": {},
   "outputs": [
    {
     "name": "stdout",
     "output_type": "stream",
     "text": [
      "CPU times: user 0 ns, sys: 0 ns, total: 0 ns\n",
      "Wall time: 0 ns\n",
      "..............................................(y)\n",
      "Record rows length : 45157\n"
     ]
    }
   ],
   "source": [
    "%time\n",
    "df_mais_de_3parto = fc.build_df_by_sql_query(\"SELECT CODMUNRES, ano_nasc, count(*) as MULHERES_COM_MAIS_DE_TRES_PARTOS_ANTERIORES \\\n",
    "                    FROM \\\"datasus-sinasc\\\" \\\n",
    "                    WHERE (ano_nasc>=2012 AND \\\n",
    "                    ano_nasc<=2020) AND \\\n",
    "                    (QTDPARTNOR > 3 \\\n",
    "                    OR (QTDPARTNOR > 2 AND QTDPARTCES > 0) \\\n",
    "                    OR (QTDPARTNOR > 1 AND QTDPARTCES > 1) \\\n",
    "                    OR (QTDPARTNOR > 0 AND QTDPARTCES > 2) \\\n",
    "                    OR QTDPARTCES > 3) \\\n",
    "                    GROUP BY CODMUNRES, ano_nasc\")"
   ]
  },
  {
   "cell_type": "markdown",
   "metadata": {},
   "source": [
    "# População feminina de 10 a 20 anos"
   ]
  },
  {
   "cell_type": "code",
   "execution_count": 9,
   "metadata": {},
   "outputs": [
    {
     "name": "stdout",
     "output_type": "stream",
     "text": [
      ".........(y)\n"
     ]
    },
    {
     "data": {
      "text/html": [
       "<div>\n",
       "<style scoped>\n",
       "    .dataframe tbody tr th:only-of-type {\n",
       "        vertical-align: middle;\n",
       "    }\n",
       "\n",
       "    .dataframe tbody tr th {\n",
       "        vertical-align: top;\n",
       "    }\n",
       "\n",
       "    .dataframe thead th {\n",
       "        text-align: right;\n",
       "    }\n",
       "</style>\n",
       "<table border=\"1\" class=\"dataframe\">\n",
       "  <thead>\n",
       "    <tr style=\"text-align: right;\">\n",
       "      <th></th>\n",
       "      <th>CODMUNRES</th>\n",
       "      <th>ano_nasc</th>\n",
       "      <th>POP_FEMININA_10_A_19</th>\n",
       "    </tr>\n",
       "  </thead>\n",
       "  <tbody>\n",
       "    <tr>\n",
       "      <th>0</th>\n",
       "      <td>110001</td>\n",
       "      <td>2012</td>\n",
       "      <td>2256</td>\n",
       "    </tr>\n",
       "    <tr>\n",
       "      <th>1</th>\n",
       "      <td>110002</td>\n",
       "      <td>2012</td>\n",
       "      <td>9407</td>\n",
       "    </tr>\n",
       "    <tr>\n",
       "      <th>2</th>\n",
       "      <td>110003</td>\n",
       "      <td>2012</td>\n",
       "      <td>523</td>\n",
       "    </tr>\n",
       "    <tr>\n",
       "      <th>3</th>\n",
       "      <td>110004</td>\n",
       "      <td>2012</td>\n",
       "      <td>7515</td>\n",
       "    </tr>\n",
       "    <tr>\n",
       "      <th>4</th>\n",
       "      <td>110005</td>\n",
       "      <td>2012</td>\n",
       "      <td>1564</td>\n",
       "    </tr>\n",
       "    <tr>\n",
       "      <th>...</th>\n",
       "      <td>...</td>\n",
       "      <td>...</td>\n",
       "      <td>...</td>\n",
       "    </tr>\n",
       "    <tr>\n",
       "      <th>50125</th>\n",
       "      <td>522200</td>\n",
       "      <td>2020</td>\n",
       "      <td>930</td>\n",
       "    </tr>\n",
       "    <tr>\n",
       "      <th>50126</th>\n",
       "      <td>522205</td>\n",
       "      <td>2020</td>\n",
       "      <td>609</td>\n",
       "    </tr>\n",
       "    <tr>\n",
       "      <th>50127</th>\n",
       "      <td>522220</td>\n",
       "      <td>2020</td>\n",
       "      <td>420</td>\n",
       "    </tr>\n",
       "    <tr>\n",
       "      <th>50128</th>\n",
       "      <td>522230</td>\n",
       "      <td>2020</td>\n",
       "      <td>354</td>\n",
       "    </tr>\n",
       "    <tr>\n",
       "      <th>50129</th>\n",
       "      <td>530010</td>\n",
       "      <td>2020</td>\n",
       "      <td>219496</td>\n",
       "    </tr>\n",
       "  </tbody>\n",
       "</table>\n",
       "<p>50130 rows × 3 columns</p>\n",
       "</div>"
      ],
      "text/plain": [
       "      CODMUNRES ano_nasc POP_FEMININA_10_A_19\n",
       "0        110001     2012                 2256\n",
       "1        110002     2012                 9407\n",
       "2        110003     2012                  523\n",
       "3        110004     2012                 7515\n",
       "4        110005     2012                 1564\n",
       "...         ...      ...                  ...\n",
       "50125    522200     2020                  930\n",
       "50126    522205     2020                  609\n",
       "50127    522220     2020                  420\n",
       "50128    522230     2020                  354\n",
       "50129    530010     2020               219496\n",
       "\n",
       "[50130 rows x 3 columns]"
      ]
     },
     "execution_count": 9,
     "metadata": {},
     "output_type": "execute_result"
    }
   ],
   "source": [
    "#pop_fem_menor_20 = pd.read_csv('../../csv_files/Alternativas/indicadores_bloco2_planejamento_reprodutivo_2012-2020.csv')\n",
    "pop_fem_menor_20 = []\n",
    "\n",
    "for i in range(9):\n",
    "    fc.dot_print()\n",
    "    pop_fem_menor_20.extend(fc.fetch_pop_fem_from_tabnet(str(12+i).zfill(2), '20'))\n",
    "print('(y)')\n",
    "\n",
    "df_pop_fem_menor_20 = pd.DataFrame(pop_fem_menor_20, columns = ['CODMUNRES', 'ANO', 'POP_FEMININA_10_A_19'])\n",
    "df_pop_fem_menor_20 = df_pop_fem_menor_20.rename(columns={\"ANO\": \"ano_nasc\"})\n",
    "df_pop_fem_menor_20"
   ]
  },
  {
   "cell_type": "markdown",
   "metadata": {},
   "source": [
    "# População Feminina de 10 a 49 anos "
   ]
  },
  {
   "cell_type": "code",
   "execution_count": 10,
   "metadata": {},
   "outputs": [
    {
     "name": "stdout",
     "output_type": "stream",
     "text": [
      ".........(y)\n"
     ]
    }
   ],
   "source": [
    "pop_fem = []\n",
    "\n",
    "for i in range(9):\n",
    "    fc.dot_print()\n",
    "    pop_fem.extend(fc.fetch_pop_fem_from_tabnet(str(12+i).zfill(2), '49'))\n",
    "print('(y)')\n",
    "\n",
    "df_pop_fem = pd.DataFrame(pop_fem, columns = ['CODMUNRES', 'ano_nasc', 'POP_FEM_10_49'])\n",
    "\n",
    "#df_pop_fem = pd.read_csv('../../csv_files/Alternativas/indicadores_bloco2_planejamento_reprodutivo_2012-2020.csv')"
   ]
  },
  {
   "cell_type": "markdown",
   "metadata": {},
   "source": [
    "# Internações por abortamento"
   ]
  },
  {
   "cell_type": "code",
   "execution_count": 12,
   "metadata": {},
   "outputs": [
    {
     "name": "stdout",
     "output_type": "stream",
     "text": [
      "..................(y)\n"
     ]
    }
   ],
   "source": [
    "dfs = []\n",
    "for i in range(9):\n",
    "    fc.dot_print()\n",
    "    dfs.append(pd.read_csv('./taxa_de_aborto_inseguro/61e62_brasil_'+str(2012+i)+'.csv'))\n",
    "\n",
    "fetch_mun_df = pd.read_excel(\"../../csv_files/tb_municipios.xlsx\")\n",
    "mun_df = pd.DataFrame([], columns = ['CODIGO_MUNICIPIO'])\n",
    "mun_df['CODIGO_MUNICIPIO'] = fetch_mun_df['codigo_municipio_completo']\n",
    "mun_df['CODIGO_MUNICIPIO'] = mun_df['CODIGO_MUNICIPIO'].astype(str)\n",
    "mun_df['CODMUNRES'] = mun_df['CODIGO_MUNICIPIO'].replace(r'.$', '', regex=True)\n",
    "    \n",
    "for i in range(len(dfs)):\n",
    "    fc.dot_print()\n",
    "    dfs[i]['ANO'] = 2012+i\n",
    "    dfs[i] = dfs[i].dropna(subset=['total_mulheres'])\n",
    "    dfs[i] = dfs[i].reset_index(drop=True)\n",
    "    dfs[i]['CODMUNRES'] = mun_df['CODMUNRES'].astype(int)\n",
    "\n",
    "df_acumulados = pd.concat(dfs, axis=0, ignore_index=True)\n",
    "df_acumulados = df_acumulados.iloc[:, [10, 9, 0, 1, 2, 3, 4, 5, 6, 7, 8]]\n",
    "df_acumulados['CODMUNRES'] = df_acumulados['CODMUNRES'].astype(int)\n",
    "df_acumulados = df_acumulados.fillna(0)\n",
    "df_acumulados = df_acumulados.sort_values(['CODMUNRES', 'ANO'])\n",
    "df_acumulados = df_acumulados.reset_index(drop=True)\n",
    "\n",
    "print('(y)')"
   ]
  },
  {
   "cell_type": "markdown",
   "metadata": {},
   "source": [
    "# População feminina com plano de saúde"
   ]
  },
  {
   "cell_type": "code",
   "execution_count": 14,
   "metadata": {},
   "outputs": [
    {
     "name": "stdout",
     "output_type": "stream",
     "text": [
      "...(y)\n"
     ]
    }
   ],
   "source": [
    "df_xlsx = pd.read_excel(\"analise_da_cobertura_sus_-_com_substituicoes_27_10_2022.xlsx\", sheet_name='cobertura sus por substituicao')\n",
    "df_aux = df_xlsx.iloc[:,[0,24,25,26,27,28,29,30,31,32]]\n",
    "df_aux = df_aux.dropna(subset=['codmun'])\n",
    "df_ano = pd.DataFrame()\n",
    "df_codmunres = pd.DataFrame()\n",
    "\n",
    "lista = []\n",
    "codmunres = []\n",
    "transposto = []\n",
    "fc.dot_print()\n",
    "for row in range(len(df_aux.index)):\n",
    "    codmunres.append(df_aux.iloc[row, 0])\n",
    "    lista.append(df_aux.iloc[row, 1:10].values.tolist())\n",
    "fc.dot_print()\n",
    "for i in range(len(lista)):\n",
    "    for j in range(len(lista[i])):\n",
    "        transposto.append(lista[i][j])\n",
    "fc.dot_print()\n",
    "\n",
    "df_codmunres['CODMUNRES'] = codmunres\n",
    "df_codmunres['CODMUNRES'] = df_codmunres['CODMUNRES'].astype(int)\n",
    "\n",
    "df_ano['ano_nasc'] = [2012,2013,2014,2015,2016,2017,2018,2019,2020]\n",
    "df_cob_sus = pd.merge(df_codmunres.assign(key=1), df_ano.assign(key=1),on='key').drop('key', axis=1)\n",
    "df_cob_sus['COBERTURA_SUS'] = transposto\n",
    "\n",
    "\n",
    "print('(y)')"
   ]
  },
  {
   "cell_type": "code",
   "execution_count": 15,
   "metadata": {},
   "outputs": [],
   "source": [
    "df_tx_abortos_inseguros = pd.DataFrame([], columns = ['CODMUNRES', 'ano_nasc', 'INTERNACOES_ABORTO', 'POP_FEM_10_49_COM_PLANO_SAUDE'])\n",
    "\n",
    "df_tx_abortos_inseguros['CODMUNRES'] = df_acumulados['CODMUNRES']\n",
    "df_tx_abortos_inseguros['ano_nasc'] = df_acumulados['ANO']\n",
    "df_tx_abortos_inseguros['INTERNACOES_ABORTO'] = df_acumulados['numero_internacoes_por_abortamento'].astype(int)\n",
    "df_tx_abortos_inseguros['INTERNACOES_ABORTO'] = df_acumulados['numero_internacoes_por_abortamento'].astype(int)\n",
    "df_tx_abortos_inseguros['POP_FEM_10_49'] = df_pop_fem['POP_FEM_10_49']\n",
    "#df_tx_abortos_inseguros['POP_FEM_10_49_COM_PLANO_SAUDE'] = (df_acumulados['cobertura_saude_suplementar']*df_acumulados['total_mulheres']).astype(int)\n",
    "#df_tx_abortos_inseguros['POP_FEM_10_49_COM_PLANO_SAUDE'] = (df_acumulados['cobertura_saude_suplementar']*df_pop_fem['POP_FEM_10_49'].astype(int)).astype(int)\n",
    "df_tx_abortos_inseguros['POP_FEM_10_49_COM_PLANO_SAUDE'] = ((1.0-df_cob_sus['COBERTURA_SUS'])*df_pop_fem['POP_FEM_10_49'].astype(int)).astype(int)"
   ]
  },
  {
   "cell_type": "markdown",
   "metadata": {},
   "source": [
    "# Finalização"
   ]
  },
  {
   "cell_type": "code",
   "execution_count": 17,
   "metadata": {},
   "outputs": [],
   "source": [
    "# Conversão do CODMUNRES para inteiro, para que seja possível a junção\n",
    "base_df['CODMUNRES']=base_df['CODMUNRES'].astype(int)\n",
    "df_t_nasc_vivos['CODMUNRES']=df_t_nasc_vivos['CODMUNRES'].astype(int)\n",
    "df_nvm_menor_20['CODMUNRES']=df_nvm_menor_20['CODMUNRES'].astype(int)\n",
    "df_pop_fem_menor_20['CODMUNRES']=df_pop_fem_menor_20['CODMUNRES'].astype(int)\n",
    "df_pop_fem_menor_20['ano_nasc']=df_pop_fem_menor_20['ano_nasc'].astype(int)\n",
    "df_mais_de_3parto['CODMUNRES']=df_mais_de_3parto['CODMUNRES'].astype(int)\n",
    "df_pop_fem['CODMUNRES']=df_pop_fem['CODMUNRES'].astype(int)\n",
    "#df_pop_fem['ano_nasc']=df_pop_fem['ANO'].astype(int)\n",
    "df_tx_abortos_inseguros['CODMUNRES']=df_tx_abortos_inseguros['CODMUNRES'].astype(int)\n",
    "\n",
    "# Junção em um dataframe final\n",
    "df_final = pd.merge(base_df, df_t_nasc_vivos, how='left', on=['CODMUNRES','ano_nasc'])\n",
    "df_final = pd.merge(df_final, df_nvm_menor_20, how='left', on=['CODMUNRES','ano_nasc'])\n",
    "df_final = pd.merge(df_final, df_pop_fem_menor_20, how='left', on=['CODMUNRES','ano_nasc'])\n",
    "df_final = pd.merge(df_final, df_mais_de_3parto, how='left', on=['CODMUNRES','ano_nasc'])\n",
    "#df_final = pd.merge(df_final, df_pop_fem, how='left', on=['CODMUNRES','ano_nasc'])\n",
    "df_final = pd.merge(df_final, df_tx_abortos_inseguros, how='left', on=['CODMUNRES','ano_nasc'])\n",
    "# Sífilis congênita\n",
    "\n",
    "# Preencher NaN com zeros\n",
    "df_final = df_final.fillna(0)\n",
    "df_final.rename(columns={'ano_nasc': 'ANO'},\n",
    "               inplace=True)\n",
    "\n",
    "del df_final['CODIGO_MUNICIPIO']\n",
    "\n",
    "[i in range(len(df_final.columns.values.tolist()))]\n",
    "aux = [i for i in range(len(df_final.columns.values.tolist()))]\n",
    "aux[0] = 1\n",
    "aux[1] = 0\n",
    "df_final = df_final.iloc[:, aux]"
   ]
  },
  {
   "cell_type": "code",
   "execution_count": 18,
   "metadata": {},
   "outputs": [
    {
     "data": {
      "text/html": [
       "<div>\n",
       "<style scoped>\n",
       "    .dataframe tbody tr th:only-of-type {\n",
       "        vertical-align: middle;\n",
       "    }\n",
       "\n",
       "    .dataframe tbody tr th {\n",
       "        vertical-align: top;\n",
       "    }\n",
       "\n",
       "    .dataframe thead th {\n",
       "        text-align: right;\n",
       "    }\n",
       "</style>\n",
       "<table border=\"1\" class=\"dataframe\">\n",
       "  <thead>\n",
       "    <tr style=\"text-align: right;\">\n",
       "      <th></th>\n",
       "      <th>CODMUNRES</th>\n",
       "      <th>ANO</th>\n",
       "      <th>TOTAL_DE_NASCIDOS_VIVOS</th>\n",
       "      <th>NVM_MENOR_QUE_20</th>\n",
       "      <th>POP_FEMININA_10_A_19</th>\n",
       "      <th>MULHERES_COM_MAIS_DE_TRES_PARTOS_ANTERIORES</th>\n",
       "      <th>INTERNACOES_ABORTO</th>\n",
       "      <th>POP_FEM_10_49_COM_PLANO_SAUDE</th>\n",
       "      <th>POP_FEM_10_49</th>\n",
       "    </tr>\n",
       "  </thead>\n",
       "  <tbody>\n",
       "    <tr>\n",
       "      <th>0</th>\n",
       "      <td>110001</td>\n",
       "      <td>2012</td>\n",
       "      <td>386.0</td>\n",
       "      <td>76.0</td>\n",
       "      <td>2256</td>\n",
       "      <td>20.0</td>\n",
       "      <td>14</td>\n",
       "      <td>624</td>\n",
       "      <td>7810</td>\n",
       "    </tr>\n",
       "    <tr>\n",
       "      <th>1</th>\n",
       "      <td>110001</td>\n",
       "      <td>2013</td>\n",
       "      <td>382.0</td>\n",
       "      <td>79.0</td>\n",
       "      <td>2162</td>\n",
       "      <td>19.0</td>\n",
       "      <td>12</td>\n",
       "      <td>2607</td>\n",
       "      <td>32588</td>\n",
       "    </tr>\n",
       "    <tr>\n",
       "      <th>2</th>\n",
       "      <td>110001</td>\n",
       "      <td>2014</td>\n",
       "      <td>341.0</td>\n",
       "      <td>69.0</td>\n",
       "      <td>2065</td>\n",
       "      <td>19.0</td>\n",
       "      <td>17</td>\n",
       "      <td>149</td>\n",
       "      <td>1873</td>\n",
       "    </tr>\n",
       "    <tr>\n",
       "      <th>3</th>\n",
       "      <td>110001</td>\n",
       "      <td>2015</td>\n",
       "      <td>373.0</td>\n",
       "      <td>74.0</td>\n",
       "      <td>1966</td>\n",
       "      <td>15.0</td>\n",
       "      <td>8</td>\n",
       "      <td>2209</td>\n",
       "      <td>27621</td>\n",
       "    </tr>\n",
       "    <tr>\n",
       "      <th>4</th>\n",
       "      <td>110001</td>\n",
       "      <td>2016</td>\n",
       "      <td>326.0</td>\n",
       "      <td>58.0</td>\n",
       "      <td>1900</td>\n",
       "      <td>19.0</td>\n",
       "      <td>13</td>\n",
       "      <td>454</td>\n",
       "      <td>5676</td>\n",
       "    </tr>\n",
       "    <tr>\n",
       "      <th>...</th>\n",
       "      <td>...</td>\n",
       "      <td>...</td>\n",
       "      <td>...</td>\n",
       "      <td>...</td>\n",
       "      <td>...</td>\n",
       "      <td>...</td>\n",
       "      <td>...</td>\n",
       "      <td>...</td>\n",
       "      <td>...</td>\n",
       "    </tr>\n",
       "    <tr>\n",
       "      <th>50125</th>\n",
       "      <td>530010</td>\n",
       "      <td>2016</td>\n",
       "      <td>43340.0</td>\n",
       "      <td>5159.0</td>\n",
       "      <td>228456</td>\n",
       "      <td>1575.0</td>\n",
       "      <td>105</td>\n",
       "      <td>1322</td>\n",
       "      <td>4265</td>\n",
       "    </tr>\n",
       "    <tr>\n",
       "      <th>50126</th>\n",
       "      <td>530010</td>\n",
       "      <td>2017</td>\n",
       "      <td>44568.0</td>\n",
       "      <td>4959.0</td>\n",
       "      <td>227457</td>\n",
       "      <td>1712.0</td>\n",
       "      <td>248</td>\n",
       "      <td>774</td>\n",
       "      <td>2580</td>\n",
       "    </tr>\n",
       "    <tr>\n",
       "      <th>50127</th>\n",
       "      <td>530010</td>\n",
       "      <td>2018</td>\n",
       "      <td>44195.0</td>\n",
       "      <td>4734.0</td>\n",
       "      <td>225494</td>\n",
       "      <td>1611.0</td>\n",
       "      <td>1504</td>\n",
       "      <td>490</td>\n",
       "      <td>1691</td>\n",
       "    </tr>\n",
       "    <tr>\n",
       "      <th>50128</th>\n",
       "      <td>530010</td>\n",
       "      <td>2019</td>\n",
       "      <td>42422.0</td>\n",
       "      <td>4361.0</td>\n",
       "      <td>222842</td>\n",
       "      <td>1635.0</td>\n",
       "      <td>1532</td>\n",
       "      <td>482</td>\n",
       "      <td>1607</td>\n",
       "    </tr>\n",
       "    <tr>\n",
       "      <th>50129</th>\n",
       "      <td>530010</td>\n",
       "      <td>2020</td>\n",
       "      <td>39361.0</td>\n",
       "      <td>3772.0</td>\n",
       "      <td>219496</td>\n",
       "      <td>1443.0</td>\n",
       "      <td>1214</td>\n",
       "      <td>303631</td>\n",
       "      <td>1012104</td>\n",
       "    </tr>\n",
       "  </tbody>\n",
       "</table>\n",
       "<p>50130 rows × 9 columns</p>\n",
       "</div>"
      ],
      "text/plain": [
       "       CODMUNRES   ANO  TOTAL_DE_NASCIDOS_VIVOS  NVM_MENOR_QUE_20  \\\n",
       "0         110001  2012                    386.0              76.0   \n",
       "1         110001  2013                    382.0              79.0   \n",
       "2         110001  2014                    341.0              69.0   \n",
       "3         110001  2015                    373.0              74.0   \n",
       "4         110001  2016                    326.0              58.0   \n",
       "...          ...   ...                      ...               ...   \n",
       "50125     530010  2016                  43340.0            5159.0   \n",
       "50126     530010  2017                  44568.0            4959.0   \n",
       "50127     530010  2018                  44195.0            4734.0   \n",
       "50128     530010  2019                  42422.0            4361.0   \n",
       "50129     530010  2020                  39361.0            3772.0   \n",
       "\n",
       "      POP_FEMININA_10_A_19  MULHERES_COM_MAIS_DE_TRES_PARTOS_ANTERIORES  \\\n",
       "0                     2256                                         20.0   \n",
       "1                     2162                                         19.0   \n",
       "2                     2065                                         19.0   \n",
       "3                     1966                                         15.0   \n",
       "4                     1900                                         19.0   \n",
       "...                    ...                                          ...   \n",
       "50125               228456                                       1575.0   \n",
       "50126               227457                                       1712.0   \n",
       "50127               225494                                       1611.0   \n",
       "50128               222842                                       1635.0   \n",
       "50129               219496                                       1443.0   \n",
       "\n",
       "       INTERNACOES_ABORTO  POP_FEM_10_49_COM_PLANO_SAUDE POP_FEM_10_49  \n",
       "0                      14                            624          7810  \n",
       "1                      12                           2607         32588  \n",
       "2                      17                            149          1873  \n",
       "3                       8                           2209         27621  \n",
       "4                      13                            454          5676  \n",
       "...                   ...                            ...           ...  \n",
       "50125                 105                           1322          4265  \n",
       "50126                 248                            774          2580  \n",
       "50127                1504                            490          1691  \n",
       "50128                1532                            482          1607  \n",
       "50129                1214                         303631       1012104  \n",
       "\n",
       "[50130 rows x 9 columns]"
      ]
     },
     "execution_count": 18,
     "metadata": {},
     "output_type": "execute_result"
    }
   ],
   "source": [
    "df_final"
   ]
  },
  {
   "cell_type": "code",
   "execution_count": 19,
   "metadata": {},
   "outputs": [
    {
     "data": {
      "text/plain": [
       "['CODMUNRES',\n",
       " 'ANO',\n",
       " 'TOTAL_DE_NASCIDOS_VIVOS',\n",
       " 'NVM_MENOR_QUE_20',\n",
       " 'POP_FEMININA_10_A_19',\n",
       " 'MULHERES_COM_MAIS_DE_TRES_PARTOS_ANTERIORES',\n",
       " 'INTERNACOES_ABORTO',\n",
       " 'POP_FEM_10_49_COM_PLANO_SAUDE',\n",
       " 'POP_FEM_10_49']"
      ]
     },
     "execution_count": 19,
     "metadata": {},
     "output_type": "execute_result"
    }
   ],
   "source": [
    "df_final.columns.values.tolist()"
   ]
  },
  {
   "cell_type": "code",
   "execution_count": 20,
   "metadata": {},
   "outputs": [],
   "source": [
    "df_final.to_csv('./indicadores_bloco2_planejamento_reprodutivo_2012-2020.csv',index=False)"
   ]
  },
  {
   "cell_type": "code",
   "execution_count": null,
   "metadata": {},
   "outputs": [],
   "source": []
  }
 ],
 "metadata": {
  "kernelspec": {
   "display_name": "Python 3 (ipykernel)",
   "language": "python",
   "name": "python3"
  },
  "language_info": {
   "codemirror_mode": {
    "name": "ipython",
    "version": 3
   },
   "file_extension": ".py",
   "mimetype": "text/x-python",
   "name": "python",
   "nbconvert_exporter": "python",
   "pygments_lexer": "ipython3",
   "version": "3.8.10"
  },
  "toc-autonumbering": true,
  "toc-showcode": false,
  "toc-showmarkdowntxt": true
 },
 "nbformat": 4,
 "nbformat_minor": 4
}
