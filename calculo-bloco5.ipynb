{
 "cells": [
  {
   "cell_type": "markdown",
   "metadata": {},
   "source": [
    "# Introdução"
   ]
  },
  {
   "cell_type": "markdown",
   "metadata": {},
   "source": [
    "## Importação das bibliotecas necessarias"
   ]
  },
  {
   "cell_type": "code",
   "execution_count": 2,
   "metadata": {},
   "outputs": [
    {
     "data": {
      "text/plain": [
       "<module 'funcoes_comuns' from '/home/pcdas/gabriel.silva.w1n3/team-vmmm/near_miss_ufrj/calculos/blocagem/funcoes_comuns.py'>"
      ]
     },
     "execution_count": 2,
     "metadata": {},
     "output_type": "execute_result"
    }
   ],
   "source": [
    "import requests\n",
    "import pandas as pd\n",
    "import os\n",
    "import json\n",
    "import sys\n",
    "import matplotlib.pyplot as plt\n",
    "import funcoes_comuns as fc\n",
    "from importlib import reload\n",
    "reload(fc)"
   ]
  },
  {
   "cell_type": "markdown",
   "metadata": {},
   "source": [
    "# Dataframe base de Código do município e Ano"
   ]
  },
  {
   "cell_type": "code",
   "execution_count": 3,
   "metadata": {},
   "outputs": [
    {
     "data": {
      "text/html": [
       "<div>\n",
       "<style scoped>\n",
       "    .dataframe tbody tr th:only-of-type {\n",
       "        vertical-align: middle;\n",
       "    }\n",
       "\n",
       "    .dataframe tbody tr th {\n",
       "        vertical-align: top;\n",
       "    }\n",
       "\n",
       "    .dataframe thead th {\n",
       "        text-align: right;\n",
       "    }\n",
       "</style>\n",
       "<table border=\"1\" class=\"dataframe\">\n",
       "  <thead>\n",
       "    <tr style=\"text-align: right;\">\n",
       "      <th></th>\n",
       "      <th>CODIGO_MUNICIPIO</th>\n",
       "      <th>ano_nasc</th>\n",
       "      <th>CODMUNRES</th>\n",
       "    </tr>\n",
       "  </thead>\n",
       "  <tbody>\n",
       "    <tr>\n",
       "      <th>0</th>\n",
       "      <td>1100015</td>\n",
       "      <td>2012</td>\n",
       "      <td>110001</td>\n",
       "    </tr>\n",
       "    <tr>\n",
       "      <th>1</th>\n",
       "      <td>1100015</td>\n",
       "      <td>2013</td>\n",
       "      <td>110001</td>\n",
       "    </tr>\n",
       "    <tr>\n",
       "      <th>2</th>\n",
       "      <td>1100015</td>\n",
       "      <td>2014</td>\n",
       "      <td>110001</td>\n",
       "    </tr>\n",
       "    <tr>\n",
       "      <th>3</th>\n",
       "      <td>1100015</td>\n",
       "      <td>2015</td>\n",
       "      <td>110001</td>\n",
       "    </tr>\n",
       "    <tr>\n",
       "      <th>4</th>\n",
       "      <td>1100015</td>\n",
       "      <td>2016</td>\n",
       "      <td>110001</td>\n",
       "    </tr>\n",
       "  </tbody>\n",
       "</table>\n",
       "</div>"
      ],
      "text/plain": [
       "  CODIGO_MUNICIPIO  ano_nasc CODMUNRES\n",
       "0          1100015      2012    110001\n",
       "1          1100015      2013    110001\n",
       "2          1100015      2014    110001\n",
       "3          1100015      2015    110001\n",
       "4          1100015      2016    110001"
      ]
     },
     "execution_count": 3,
     "metadata": {},
     "output_type": "execute_result"
    }
   ],
   "source": [
    "base_df = fc.get_tb_municipios()\n",
    "base_df.head()"
   ]
  },
  {
   "cell_type": "markdown",
   "metadata": {},
   "source": [
    "# Nascidos vivos de mulheres de 2012 a 2020"
   ]
  },
  {
   "cell_type": "code",
   "execution_count": 4,
   "metadata": {},
   "outputs": [
    {
     "name": "stdout",
     "output_type": "stream",
     "text": [
      "CPU times: user 0 ns, sys: 0 ns, total: 0 ns\n",
      "Wall time: 26.5 µs\n",
      "...................................................(y)\n",
      "Record rows length : 50268\n"
     ]
    }
   ],
   "source": [
    "%time\n",
    "df_t_nasc_vivos = fc.build_df_by_sql_query(\"SELECT CODMUNRES, ano_nasc, count(*) as TOTAL_DE_NASCIDOS_VIVOS \\\n",
    "                    FROM \\\"datasus-sinasc\\\" \\\n",
    "                    WHERE ano_nasc>=2012 AND \\\n",
    "                    ano_nasc<=2020 \\\n",
    "                    GROUP BY CODMUNRES, ano_nasc\")"
   ]
  },
  {
   "cell_type": "markdown",
   "metadata": {
    "toc-hr-collapsed": false
   },
   "source": [
    "# Quantidade de baixo peso ao nascer"
   ]
  },
  {
   "cell_type": "code",
   "execution_count": 5,
   "metadata": {},
   "outputs": [
    {
     "name": "stdout",
     "output_type": "stream",
     "text": [
      "CPU times: user 0 ns, sys: 0 ns, total: 0 ns\n",
      "Wall time: 0 ns\n",
      "..................................................(y)\n",
      "Record rows length : 49039\n"
     ]
    }
   ],
   "source": [
    "%time\n",
    "\n",
    "df_baixo_peso = fc.build_df_by_sql_query(\"SELECT CODMUNRES, ano_nasc, count(*) as NASCIDOS_VIVOS_COM_BAIXO_PESO \\\n",
    "                    FROM \\\"datasus-sinasc\\\" \\\n",
    "                    WHERE  ano_nasc>=2012 AND \\\n",
    "                    ano_nasc<=2020 AND \\\n",
    "                    PESO<2500 \\\n",
    "                    GROUP BY CODMUNRES, ano_nasc\")"
   ]
  },
  {
   "cell_type": "markdown",
   "metadata": {},
   "source": [
    "# Quantidade de nascimentos prematuros"
   ]
  },
  {
   "cell_type": "code",
   "execution_count": 6,
   "metadata": {},
   "outputs": [
    {
     "name": "stdout",
     "output_type": "stream",
     "text": [
      "CPU times: user 2 µs, sys: 1e+03 ns, total: 3 µs\n",
      "Wall time: 7.87 µs\n",
      "..................................................(y)\n",
      "Record rows length : 49557\n"
     ]
    }
   ],
   "source": [
    "%time\n",
    "\n",
    "df_nascimentos_prematuros = fc.build_df_by_sql_query(\"SELECT CODMUNRES, ano_nasc, count(*) as NASCIDOS_VIVOS_PREMATUROS \\\n",
    "                    FROM \\\"datasus-sinasc\\\" \\\n",
    "                    WHERE  ano_nasc>=2012 AND \\\n",
    "                    ano_nasc<=2020 AND \\\n",
    "                    GESTACAO<5 \\\n",
    "                    GROUP BY CODMUNRES, ano_nasc\")"
   ]
  },
  {
   "cell_type": "markdown",
   "metadata": {},
   "source": [
    "# Número de nascimentos termo precoce"
   ]
  },
  {
   "cell_type": "code",
   "execution_count": 7,
   "metadata": {},
   "outputs": [
    {
     "name": "stdout",
     "output_type": "stream",
     "text": [
      "CPU times: user 0 ns, sys: 0 ns, total: 0 ns\n",
      "Wall time: 0 ns\n",
      "...................................................(y)\n",
      "Record rows length : 50176\n"
     ]
    }
   ],
   "source": [
    "%time\n",
    "\n",
    "df_termo_precoce = fc.build_df_by_sql_query(\"SELECT CODMUNRES, ano_nasc, count(*) as NASCIDOS_VIVOS_TERMO_PRECOCE \\\n",
    "                    FROM \\\"datasus-sinasc\\\" \\\n",
    "                    WHERE ano_nasc>=2012 AND \\\n",
    "                    ano_nasc<=2020 AND \\\n",
    "                    SEMAGESTAC>=37 AND \\\n",
    "                    SEMAGESTAC<=38 \\\n",
    "                    GROUP BY CODMUNRES, ano_nasc\")"
   ]
  },
  {
   "cell_type": "markdown",
   "metadata": {},
   "source": [
    "# Finalização"
   ]
  },
  {
   "cell_type": "code",
   "execution_count": 11,
   "metadata": {},
   "outputs": [],
   "source": [
    "# Conversão do CODMUNRES para inteiro, para que seja possível a junção\n",
    "base_df['CODMUNRES']=base_df['CODMUNRES'].astype(int)\n",
    "df_t_nasc_vivos['CODMUNRES']=df_t_nasc_vivos['CODMUNRES'].astype(int)\n",
    "df_baixo_peso['CODMUNRES']=df_baixo_peso['CODMUNRES'].astype(int)\n",
    "df_nascimentos_prematuros['CODMUNRES']=df_nascimentos_prematuros['CODMUNRES'].astype(int)\n",
    "df_termo_precoce['CODMUNRES']=df_termo_precoce['CODMUNRES'].astype(int)\n",
    "\n",
    "# Junção em um dataframe final\n",
    "df_final = pd.merge(base_df, df_t_nasc_vivos, how='left', on=['CODMUNRES','ano_nasc'])\n",
    "df_final = pd.merge(df_final, df_baixo_peso, how='left', on=['CODMUNRES','ano_nasc'])\n",
    "df_final = pd.merge(df_final, df_nascimentos_prematuros, how='left', on=['CODMUNRES','ano_nasc'])\n",
    "df_final = pd.merge(df_final, df_termo_precoce, how='left', on=['CODMUNRES','ano_nasc'])\n",
    "\n",
    "# Preencher NaN com zeros\n",
    "df_final = df_final.fillna(0)\n",
    "df_final.rename(columns={'ano_nasc': 'ANO'},\n",
    "               inplace=True)\n",
    "\n",
    "del df_final['CODIGO_MUNICIPIO']\n",
    "\n",
    "aux = [i for i in range(len(df_final.columns.values.tolist()))]\n",
    "aux[0] = 1\n",
    "aux[1] = 0\n",
    "df_final = df_final.iloc[:, aux]"
   ]
  },
  {
   "cell_type": "code",
   "execution_count": 12,
   "metadata": {},
   "outputs": [
    {
     "data": {
      "text/html": [
       "<div>\n",
       "<style scoped>\n",
       "    .dataframe tbody tr th:only-of-type {\n",
       "        vertical-align: middle;\n",
       "    }\n",
       "\n",
       "    .dataframe tbody tr th {\n",
       "        vertical-align: top;\n",
       "    }\n",
       "\n",
       "    .dataframe thead th {\n",
       "        text-align: right;\n",
       "    }\n",
       "</style>\n",
       "<table border=\"1\" class=\"dataframe\">\n",
       "  <thead>\n",
       "    <tr style=\"text-align: right;\">\n",
       "      <th></th>\n",
       "      <th>CODMUNRES</th>\n",
       "      <th>ANO</th>\n",
       "      <th>TOTAL_DE_NASCIDOS_VIVOS</th>\n",
       "      <th>NASCIDOS_VIVOS_COM_BAIXO_PESO</th>\n",
       "      <th>NASCIDOS_VIVOS_PREMATUROS</th>\n",
       "      <th>NASCIDOS_VIVOS_TERMO_PRECOCE</th>\n",
       "    </tr>\n",
       "  </thead>\n",
       "  <tbody>\n",
       "    <tr>\n",
       "      <th>0</th>\n",
       "      <td>110001</td>\n",
       "      <td>2012</td>\n",
       "      <td>386.0</td>\n",
       "      <td>11.0</td>\n",
       "      <td>29.0</td>\n",
       "      <td>106.0</td>\n",
       "    </tr>\n",
       "    <tr>\n",
       "      <th>1</th>\n",
       "      <td>110001</td>\n",
       "      <td>2013</td>\n",
       "      <td>382.0</td>\n",
       "      <td>15.0</td>\n",
       "      <td>23.0</td>\n",
       "      <td>106.0</td>\n",
       "    </tr>\n",
       "    <tr>\n",
       "      <th>2</th>\n",
       "      <td>110001</td>\n",
       "      <td>2014</td>\n",
       "      <td>341.0</td>\n",
       "      <td>28.0</td>\n",
       "      <td>28.0</td>\n",
       "      <td>89.0</td>\n",
       "    </tr>\n",
       "    <tr>\n",
       "      <th>3</th>\n",
       "      <td>110001</td>\n",
       "      <td>2015</td>\n",
       "      <td>373.0</td>\n",
       "      <td>22.0</td>\n",
       "      <td>36.0</td>\n",
       "      <td>105.0</td>\n",
       "    </tr>\n",
       "    <tr>\n",
       "      <th>4</th>\n",
       "      <td>110001</td>\n",
       "      <td>2016</td>\n",
       "      <td>326.0</td>\n",
       "      <td>22.0</td>\n",
       "      <td>35.0</td>\n",
       "      <td>96.0</td>\n",
       "    </tr>\n",
       "  </tbody>\n",
       "</table>\n",
       "</div>"
      ],
      "text/plain": [
       "   CODMUNRES   ANO  TOTAL_DE_NASCIDOS_VIVOS  NASCIDOS_VIVOS_COM_BAIXO_PESO  \\\n",
       "0     110001  2012                    386.0                           11.0   \n",
       "1     110001  2013                    382.0                           15.0   \n",
       "2     110001  2014                    341.0                           28.0   \n",
       "3     110001  2015                    373.0                           22.0   \n",
       "4     110001  2016                    326.0                           22.0   \n",
       "\n",
       "   NASCIDOS_VIVOS_PREMATUROS  NASCIDOS_VIVOS_TERMO_PRECOCE  \n",
       "0                       29.0                         106.0  \n",
       "1                       23.0                         106.0  \n",
       "2                       28.0                          89.0  \n",
       "3                       36.0                         105.0  \n",
       "4                       35.0                          96.0  "
      ]
     },
     "execution_count": 12,
     "metadata": {},
     "output_type": "execute_result"
    }
   ],
   "source": [
    "df_final.head()"
   ]
  },
  {
   "cell_type": "code",
   "execution_count": 13,
   "metadata": {},
   "outputs": [
    {
     "data": {
      "text/plain": [
       "['CODMUNRES',\n",
       " 'ANO',\n",
       " 'TOTAL_DE_NASCIDOS_VIVOS',\n",
       " 'NASCIDOS_VIVOS_COM_BAIXO_PESO',\n",
       " 'NASCIDOS_VIVOS_PREMATUROS',\n",
       " 'NASCIDOS_VIVOS_TERMO_PRECOCE']"
      ]
     },
     "execution_count": 13,
     "metadata": {},
     "output_type": "execute_result"
    }
   ],
   "source": [
    "df_final.columns.values.tolist()"
   ]
  },
  {
   "cell_type": "code",
   "execution_count": 14,
   "metadata": {},
   "outputs": [],
   "source": [
    "df_final.to_csv('./indicadores_bloco5_condicao_de_nascimento_2012-2020.csv',index=False)"
   ]
  },
  {
   "cell_type": "code",
   "execution_count": null,
   "metadata": {},
   "outputs": [],
   "source": []
  }
 ],
 "metadata": {
  "kernelspec": {
   "display_name": "Python 3 (ipykernel)",
   "language": "python",
   "name": "python3"
  },
  "language_info": {
   "codemirror_mode": {
    "name": "ipython",
    "version": 3
   },
   "file_extension": ".py",
   "mimetype": "text/x-python",
   "name": "python",
   "nbconvert_exporter": "python",
   "pygments_lexer": "ipython3",
   "version": "3.8.10"
  },
  "toc-autonumbering": true,
  "toc-showcode": false,
  "toc-showmarkdowntxt": true
 },
 "nbformat": 4,
 "nbformat_minor": 4
}
