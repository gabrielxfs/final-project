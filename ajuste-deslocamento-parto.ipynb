{
 "cells": [
  {
   "cell_type": "markdown",
   "metadata": {},
   "source": [
    "# Introdução"
   ]
  },
  {
   "cell_type": "markdown",
   "metadata": {},
   "source": [
    "## Importação das bibliotecas necessarias"
   ]
  },
  {
   "cell_type": "code",
   "execution_count": 42,
   "metadata": {},
   "outputs": [],
   "source": [
    "%matplotlib inline\n",
    "import requests\n",
    "import pandas as pd\n",
    "import os\n",
    "import json\n",
    "import sys\n",
    "import matplotlib.pyplot as plt"
   ]
  },
  {
   "cell_type": "markdown",
   "metadata": {},
   "source": [
    "## Funções auxiliares"
   ]
  },
  {
   "cell_type": "code",
   "execution_count": 43,
   "metadata": {},
   "outputs": [],
   "source": [
    "def dot_print():\n",
    "    sys.stdout.write('.')\n",
    "    sys.stdout.flush()"
   ]
  },
  {
   "cell_type": "markdown",
   "metadata": {},
   "source": [
    "# Dataframe base de Código do município e Ano"
   ]
  },
  {
   "cell_type": "code",
   "execution_count": 44,
   "metadata": {},
   "outputs": [
    {
     "data": {
      "text/html": [
       "<div>\n",
       "<style scoped>\n",
       "    .dataframe tbody tr th:only-of-type {\n",
       "        vertical-align: middle;\n",
       "    }\n",
       "\n",
       "    .dataframe tbody tr th {\n",
       "        vertical-align: top;\n",
       "    }\n",
       "\n",
       "    .dataframe thead th {\n",
       "        text-align: right;\n",
       "    }\n",
       "</style>\n",
       "<table border=\"1\" class=\"dataframe\">\n",
       "  <thead>\n",
       "    <tr style=\"text-align: right;\">\n",
       "      <th></th>\n",
       "      <th>CODIGO_MUNICIPIO</th>\n",
       "      <th>ANO</th>\n",
       "      <th>CODMUNRES</th>\n",
       "    </tr>\n",
       "  </thead>\n",
       "  <tbody>\n",
       "    <tr>\n",
       "      <th>0</th>\n",
       "      <td>1100015</td>\n",
       "      <td>2012</td>\n",
       "      <td>110001</td>\n",
       "    </tr>\n",
       "    <tr>\n",
       "      <th>1</th>\n",
       "      <td>1100015</td>\n",
       "      <td>2013</td>\n",
       "      <td>110001</td>\n",
       "    </tr>\n",
       "    <tr>\n",
       "      <th>2</th>\n",
       "      <td>1100015</td>\n",
       "      <td>2014</td>\n",
       "      <td>110001</td>\n",
       "    </tr>\n",
       "    <tr>\n",
       "      <th>3</th>\n",
       "      <td>1100015</td>\n",
       "      <td>2015</td>\n",
       "      <td>110001</td>\n",
       "    </tr>\n",
       "    <tr>\n",
       "      <th>4</th>\n",
       "      <td>1100015</td>\n",
       "      <td>2016</td>\n",
       "      <td>110001</td>\n",
       "    </tr>\n",
       "  </tbody>\n",
       "</table>\n",
       "</div>"
      ],
      "text/plain": [
       "  CODIGO_MUNICIPIO   ANO CODMUNRES\n",
       "0          1100015  2012    110001\n",
       "1          1100015  2013    110001\n",
       "2          1100015  2014    110001\n",
       "3          1100015  2015    110001\n",
       "4          1100015  2016    110001"
      ]
     },
     "execution_count": 44,
     "metadata": {},
     "output_type": "execute_result"
    }
   ],
   "source": [
    "ano_df = pd.DataFrame([2012,2013,2014,2015,2016,2017,2018,2019,2020], columns= ['ANO'])\n",
    "fetch_mun_df = pd.read_excel(\"../../csv_files/tb_municipios.xlsx\")\n",
    "mun_df = pd.DataFrame([], columns = ['CODIGO_MUNICIPIO'])\n",
    "mun_df['CODIGO_MUNICIPIO'] = fetch_mun_df['codigo_municipio_completo']\n",
    "base_df = pd.merge(mun_df.assign(key=1), ano_df.assign(key=1),on='key').drop('key', axis=1)\n",
    "base_df['CODIGO_MUNICIPIO'] = base_df['CODIGO_MUNICIPIO'].astype(str)\n",
    "base_df['CODMUNRES'] = base_df['CODIGO_MUNICIPIO'].replace(r'.$', '', regex=True)\n",
    "base_df = base_df.sort_values(by=['CODMUNRES', 'ANO'])\n",
    "base_df.head()"
   ]
  },
  {
   "cell_type": "markdown",
   "metadata": {},
   "source": [
    "# Tratamento das planilhas de deslocamento para o parto"
   ]
  },
  {
   "cell_type": "code",
   "execution_count": 57,
   "metadata": {},
   "outputs": [
    {
     "name": "stdout",
     "output_type": "stream",
     "text": [
      "..................(+)\n"
     ]
    }
   ],
   "source": [
    "df_mun_array = []\n",
    "df_uf_array = []\n",
    "for i in range(9):\n",
    "    dot_print()\n",
    "    df_mun_aux = pd.read_excel(\"./BR\"+str(12+i)+\"dc_Rosa.ods\")\n",
    "    df_mun_aux.insert(1, 'ANO', [2012+i] * len(df_mun_aux.index), True)\n",
    "    df_mun_array.append(df_mun_aux)\n",
    "    dot_print()\n",
    "    df_uf_aux = pd.read_excel(\"./Brasil-UFs-12a20_Rosa.ods\", sheet_name=\"BR\"+str(12+i))\n",
    "    df_uf_aux.insert(1, 'ANO', [2012+i] * len(df_uf_aux.index), True)\n",
    "    df_uf_array.append(df_uf_aux)\n",
    "print('(+)')\n",
    "\n",
    "df_mun = pd.concat(df_mun_array, ignore_index=True)\n",
    "df_uf = pd.concat(df_uf_array, ignore_index=True)"
   ]
  },
  {
   "cell_type": "code",
   "execution_count": 58,
   "metadata": {},
   "outputs": [],
   "source": [
    "df_uf2 = df_uf.dropna(subset=['NOME'])\n",
    "df_uf2 = df_uf2.fillna({'CODUFr': 55})\n",
    "df_uf2 = df_uf2.fillna(0)\n",
    "df_uf2 = df_uf2.sort_values(by=['CODUFr', 'ANO'])\n",
    "df_uf2 = df_uf2.rename(columns={\"CODUFr\": \"UF\"})\n",
    "#df_uf2.head()\n",
    "df_uf2.to_csv('./indicadores_bloco4_deslocamento_parto_UF_2012-2020.csv',index=False)"
   ]
  },
  {
   "cell_type": "code",
   "execution_count": 59,
   "metadata": {},
   "outputs": [],
   "source": [
    "df_mun2 = df_mun.sort_values(by=['CODMUNRES', 'ANO'])\n",
    "df_mun2 = df_mun2.iloc[:-7, :]\n",
    "del df_mun2['NOME']\n",
    "base_df['CODMUNRES']=base_df['CODMUNRES'].astype(int)\n",
    "df_mun2['CODMUNRES']=df_mun2['CODMUNRES'].astype(int)\n",
    "df_mun3 = pd.merge(base_df, df_mun2, how='left', on=['CODMUNRES','ANO'])\n",
    "del df_mun3['CODIGO_MUNICIPIO']\n",
    "df_mun3 = df_mun3.sort_values(by=['CODMUNRES', 'ANO'])\n",
    "#df_mun3.head()\n",
    "df_mun3.to_csv('./indicadores_bloco4_deslocamento_parto_municipio_2012-2020.csv',index=False)"
   ]
  },
  {
   "cell_type": "code",
   "execution_count": 60,
   "metadata": {},
   "outputs": [],
   "source": [
    "df_void = pd.read_excel('./Incompletitude_indicadores_deslocamento_parto.xlsx', sheet_name='BD')"
   ]
  },
  {
   "cell_type": "code",
   "execution_count": 70,
   "metadata": {},
   "outputs": [],
   "source": [
    "df_void1 = df_void.rename(columns={\"ano\":\"ANO\", \"uf\": \"UF\", \"mun_res\": \"CODMUNRES\"})\n",
    "df_void1['CODMUNRES'] = df_void1['CODMUNRES'].astype(int)\n",
    "df_void2 = pd.merge(base_df, df_void1, how='left', on=['CODMUNRES', 'ANO'])\n",
    "df_void2 = df_void2.sort_values(by=['CODMUNRES', 'ANO'])\n",
    "df_void2 = df_void2.fillna(0)\n",
    "del df_void2['CODIGO_MUNICIPIO']"
   ]
  },
  {
   "cell_type": "code",
   "execution_count": 71,
   "metadata": {},
   "outputs": [],
   "source": [
    "df_void2.to_csv('./Incompletitude_indicadores_deslocamento_parto.csv', index=False)"
   ]
  },
  {
   "cell_type": "code",
   "execution_count": null,
   "metadata": {},
   "outputs": [],
   "source": []
  }
 ],
 "metadata": {
  "kernelspec": {
   "display_name": "Python 3 (ipykernel)",
   "language": "python",
   "name": "python3"
  },
  "language_info": {
   "codemirror_mode": {
    "name": "ipython",
    "version": 3
   },
   "file_extension": ".py",
   "mimetype": "text/x-python",
   "name": "python",
   "nbconvert_exporter": "python",
   "pygments_lexer": "ipython3",
   "version": "3.8.10"
  },
  "toc-autonumbering": true,
  "toc-showcode": false,
  "toc-showmarkdowntxt": true
 },
 "nbformat": 4,
 "nbformat_minor": 4
}
