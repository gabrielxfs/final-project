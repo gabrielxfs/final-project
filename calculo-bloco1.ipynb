{
 "cells": [
  {
   "cell_type": "markdown",
   "metadata": {},
   "source": [
    "# Introdução"
   ]
  },
  {
   "cell_type": "markdown",
   "metadata": {},
   "source": [
    "## Importação das bibliotecas necessarias"
   ]
  },
  {
   "cell_type": "code",
   "execution_count": 24,
   "metadata": {},
   "outputs": [
    {
     "data": {
      "text/plain": [
       "<module 'funcoes_comuns' from '/home/pcdas/gabriel.silva.w1n3/team-vmmm/near_miss_ufrj/calculos/blocagem/funcoes_comuns.py'>"
      ]
     },
     "execution_count": 24,
     "metadata": {},
     "output_type": "execute_result"
    }
   ],
   "source": [
    "import requests\n",
    "import pandas as pd\n",
    "import os\n",
    "import json\n",
    "import sys\n",
    "import matplotlib.pyplot as plt\n",
    "import funcoes_comuns as fc\n",
    "from importlib import reload\n",
    "reload(fc)"
   ]
  },
  {
   "cell_type": "markdown",
   "metadata": {},
   "source": [
    "# Dataframe base de Código do município e Ano"
   ]
  },
  {
   "cell_type": "code",
   "execution_count": 3,
   "metadata": {},
   "outputs": [
    {
     "data": {
      "text/html": [
       "<div>\n",
       "<style scoped>\n",
       "    .dataframe tbody tr th:only-of-type {\n",
       "        vertical-align: middle;\n",
       "    }\n",
       "\n",
       "    .dataframe tbody tr th {\n",
       "        vertical-align: top;\n",
       "    }\n",
       "\n",
       "    .dataframe thead th {\n",
       "        text-align: right;\n",
       "    }\n",
       "</style>\n",
       "<table border=\"1\" class=\"dataframe\">\n",
       "  <thead>\n",
       "    <tr style=\"text-align: right;\">\n",
       "      <th></th>\n",
       "      <th>CODIGO_MUNICIPIO</th>\n",
       "      <th>ano_nasc</th>\n",
       "      <th>CODMUNRES</th>\n",
       "    </tr>\n",
       "  </thead>\n",
       "  <tbody>\n",
       "    <tr>\n",
       "      <th>0</th>\n",
       "      <td>1100015</td>\n",
       "      <td>2012</td>\n",
       "      <td>110001</td>\n",
       "    </tr>\n",
       "    <tr>\n",
       "      <th>1</th>\n",
       "      <td>1100015</td>\n",
       "      <td>2013</td>\n",
       "      <td>110001</td>\n",
       "    </tr>\n",
       "    <tr>\n",
       "      <th>2</th>\n",
       "      <td>1100015</td>\n",
       "      <td>2014</td>\n",
       "      <td>110001</td>\n",
       "    </tr>\n",
       "    <tr>\n",
       "      <th>3</th>\n",
       "      <td>1100015</td>\n",
       "      <td>2015</td>\n",
       "      <td>110001</td>\n",
       "    </tr>\n",
       "    <tr>\n",
       "      <th>4</th>\n",
       "      <td>1100015</td>\n",
       "      <td>2016</td>\n",
       "      <td>110001</td>\n",
       "    </tr>\n",
       "  </tbody>\n",
       "</table>\n",
       "</div>"
      ],
      "text/plain": [
       "  CODIGO_MUNICIPIO  ano_nasc CODMUNRES\n",
       "0          1100015      2012    110001\n",
       "1          1100015      2013    110001\n",
       "2          1100015      2014    110001\n",
       "3          1100015      2015    110001\n",
       "4          1100015      2016    110001"
      ]
     },
     "execution_count": 3,
     "metadata": {},
     "output_type": "execute_result"
    }
   ],
   "source": [
    "base_df = fc.get_tb_municipios()\n",
    "base_df.head()"
   ]
  },
  {
   "cell_type": "markdown",
   "metadata": {},
   "source": [
    "# Nascidos vivos de mulheres de 2012 a 2020"
   ]
  },
  {
   "cell_type": "code",
   "execution_count": 5,
   "metadata": {},
   "outputs": [
    {
     "name": "stdout",
     "output_type": "stream",
     "text": [
      "CPU times: user 3 µs, sys: 2 µs, total: 5 µs\n",
      "Wall time: 8.11 µs\n",
      "...................................................(y)\n",
      "Record rows length : 50268\n"
     ]
    }
   ],
   "source": [
    "%time\n",
    "df_t_nasc_vivos = fc.build_df_by_sql_query(\"SELECT CODMUNRES, ano_nasc, count(*) as TOTAL_DE_NASCIDOS_VIVOS \\\n",
    "                    FROM \\\"datasus-sinasc\\\" \\\n",
    "                    WHERE ano_nasc>=2012 AND \\\n",
    "                    ano_nasc<=2020 \\\n",
    "                    GROUP BY CODMUNRES, ano_nasc\")"
   ]
  },
  {
   "cell_type": "markdown",
   "metadata": {
    "toc-hr-collapsed": false
   },
   "source": [
    "# Quantidade de nascidos vivos de mulheres com idade inferior a 20 anos (gestação na adolescência)"
   ]
  },
  {
   "cell_type": "code",
   "execution_count": 6,
   "metadata": {},
   "outputs": [
    {
     "name": "stdout",
     "output_type": "stream",
     "text": [
      "CPU times: user 0 ns, sys: 0 ns, total: 0 ns\n",
      "Wall time: 0 ns\n",
      "..................................................(y)\n",
      "Record rows length : 49810\n"
     ]
    }
   ],
   "source": [
    "%time\n",
    "df_menor20 = fc.build_df_by_sql_query(\"SELECT CODMUNRES, ano_nasc, count(*) as NVM_MENOR_QUE_20_ANOS \\\n",
    "                    FROM \\\"datasus-sinasc\\\" \\\n",
    "                    WHERE ano_nasc>=2012 AND \\\n",
    "                    ano_nasc<=2020 AND \\\n",
    "                    IDADEMAE>=10 AND \\\n",
    "                    IDADEMAE<=19 \\\n",
    "                    GROUP BY CODMUNRES, ano_nasc\")"
   ]
  },
  {
   "cell_type": "markdown",
   "metadata": {},
   "source": [
    "# Quantidade de nascidos vivos de mulheres com idade entre 20 e 34 anos"
   ]
  },
  {
   "cell_type": "code",
   "execution_count": 7,
   "metadata": {},
   "outputs": [
    {
     "name": "stdout",
     "output_type": "stream",
     "text": [
      "CPU times: user 0 ns, sys: 0 ns, total: 0 ns\n",
      "Wall time: 0 ns\n",
      "...................................................(y)\n",
      "Record rows length : 50252\n"
     ]
    }
   ],
   "source": [
    "%time\n",
    "df_entre20_34 = fc.build_df_by_sql_query(\"SELECT CODMUNRES, ano_nasc, count(*) as NVM_ENTRE_20_E_34_ANOS \\\n",
    "                    FROM \\\"datasus-sinasc\\\" \\\n",
    "                    WHERE ano_nasc>=2012 AND \\\n",
    "                    ano_nasc<=2020 AND \\\n",
    "                    IDADEMAE>=20 AND \\\n",
    "                    IDADEMAE<=34 \\\n",
    "                    GROUP BY CODMUNRES, ano_nasc\")"
   ]
  },
  {
   "cell_type": "markdown",
   "metadata": {},
   "source": [
    "# Quantidade de nascidos vivos de mulheres com idade igual ou superior a 35 anos"
   ]
  },
  {
   "cell_type": "code",
   "execution_count": 8,
   "metadata": {},
   "outputs": [
    {
     "name": "stdout",
     "output_type": "stream",
     "text": [
      "CPU times: user 3 µs, sys: 0 ns, total: 3 µs\n",
      "Wall time: 8.82 µs\n",
      "..................................................(y)\n",
      "Record rows length : 49833\n"
     ]
    }
   ],
   "source": [
    "%time\n",
    "df_maior35 = fc.build_df_by_sql_query(\"SELECT CODMUNRES, ano_nasc, count(*) as NVM_MAIOR_QUE_34_ANOS \\\n",
    "                    FROM \\\"datasus-sinasc\\\" \\\n",
    "                    WHERE ano_nasc>=2012 AND \\\n",
    "                    ano_nasc<=2020 AND \\\n",
    "                    IDADEMAE>=35 AND \\\n",
    "                    IDADEMAE<=55 \\\n",
    "                    GROUP BY CODMUNRES, ano_nasc\")"
   ]
  },
  {
   "cell_type": "markdown",
   "metadata": {},
   "source": [
    "# Quantidade de nascidos vivos de mulheres de cor da pele branca"
   ]
  },
  {
   "cell_type": "code",
   "execution_count": 9,
   "metadata": {},
   "outputs": [
    {
     "name": "stdout",
     "output_type": "stream",
     "text": [
      "CPU times: user 3 µs, sys: 1 µs, total: 4 µs\n",
      "Wall time: 7.63 µs\n",
      "..................................................(y)\n",
      "Record rows length : 49545\n"
     ]
    }
   ],
   "source": [
    "%time\n",
    "df_cor_branca = fc.build_df_by_sql_query(\"SELECT CODMUNRES, ano_nasc, count(*) as NVM_COM_COR_DA_PELE_BRANCA \\\n",
    "                    FROM \\\"datasus-sinasc\\\" \\\n",
    "                    WHERE ano_nasc>=2012 AND \\\n",
    "                    ano_nasc<=2020 AND \\\n",
    "                    RACACORMAE=1 \\\n",
    "                    GROUP BY CODMUNRES, ano_nasc\")"
   ]
  },
  {
   "cell_type": "markdown",
   "metadata": {},
   "source": [
    "# Quantidade de nascidos vivos de mulheres de cor da pele preta"
   ]
  },
  {
   "cell_type": "code",
   "execution_count": 10,
   "metadata": {},
   "outputs": [
    {
     "name": "stdout",
     "output_type": "stream",
     "text": [
      "CPU times: user 3 µs, sys: 0 ns, total: 3 µs\n",
      "Wall time: 7.39 µs\n",
      "..........................................(y)\n",
      "Record rows length : 41579\n"
     ]
    }
   ],
   "source": [
    "%time\n",
    "df_cor_preta = fc.build_df_by_sql_query(\"SELECT CODMUNRES, ano_nasc, count(*) as NVM_COM_COR_DA_PELE_PRETA \\\n",
    "                    FROM \\\"datasus-sinasc\\\" \\\n",
    "                    WHERE ano_nasc>=2012 AND \\\n",
    "                    ano_nasc<=2020 AND \\\n",
    "                    RACACORMAE=2 \\\n",
    "                    GROUP BY CODMUNRES, ano_nasc\")"
   ]
  },
  {
   "cell_type": "markdown",
   "metadata": {},
   "source": [
    "# Quantidade de nascidos vivos de mulheres de cor da pele parda"
   ]
  },
  {
   "cell_type": "code",
   "execution_count": 11,
   "metadata": {},
   "outputs": [
    {
     "name": "stdout",
     "output_type": "stream",
     "text": [
      "CPU times: user 4 µs, sys: 1e+03 ns, total: 5 µs\n",
      "Wall time: 8.34 µs\n",
      "..................................................(y)\n",
      "Record rows length : 49318\n"
     ]
    }
   ],
   "source": [
    "%time\n",
    "df_cor_parda = fc.build_df_by_sql_query(\"SELECT CODMUNRES, ano_nasc, count(*) as NVM_COM_COR_DA_PELE_PARDA \\\n",
    "                    FROM \\\"datasus-sinasc\\\" \\\n",
    "                    WHERE ano_nasc>=2012 AND \\\n",
    "                    ano_nasc<=2020 AND \\\n",
    "                    RACACORMAE=4 \\\n",
    "                    GROUP BY CODMUNRES, ano_nasc\")"
   ]
  },
  {
   "cell_type": "markdown",
   "metadata": {},
   "source": [
    "# Quantidade de nascidos vivos de mulheres de cor da pele amarela"
   ]
  },
  {
   "cell_type": "code",
   "execution_count": 12,
   "metadata": {},
   "outputs": [
    {
     "name": "stdout",
     "output_type": "stream",
     "text": [
      "CPU times: user 3 µs, sys: 1 µs, total: 4 µs\n",
      "Wall time: 7.87 µs\n",
      "................(y)\n",
      "Record rows length : 15993\n"
     ]
    }
   ],
   "source": [
    "%time\n",
    "df_cor_amarela = fc.build_df_by_sql_query(\"SELECT CODMUNRES, ano_nasc, count(*) as NVM_COM_COR_DA_PELE_AMARELA \\\n",
    "                    FROM \\\"datasus-sinasc\\\" \\\n",
    "                    WHERE ano_nasc>=2012 AND \\\n",
    "                    ano_nasc<=2020 AND \\\n",
    "                    RACACORMAE=3 \\\n",
    "                    GROUP BY CODMUNRES, ano_nasc\")"
   ]
  },
  {
   "cell_type": "markdown",
   "metadata": {},
   "source": [
    "# Quantidade de nascidos vivos de mulheres indígenas"
   ]
  },
  {
   "cell_type": "code",
   "execution_count": 13,
   "metadata": {},
   "outputs": [
    {
     "name": "stdout",
     "output_type": "stream",
     "text": [
      "CPU times: user 3 µs, sys: 1 µs, total: 4 µs\n",
      "Wall time: 7.87 µs\n",
      "............(y)\n",
      "Record rows length : 11088\n"
     ]
    }
   ],
   "source": [
    "%time\n",
    "df_cor_indigena = fc.build_df_by_sql_query(\"SELECT CODMUNRES, ano_nasc, count(*) as NVM_INDIGENAS \\\n",
    "                    FROM \\\"datasus-sinasc\\\" \\\n",
    "                    WHERE ano_nasc>=2012 AND \\\n",
    "                    ano_nasc<=2020 AND \\\n",
    "                    RACACORMAE=5 \\\n",
    "                    GROUP BY CODMUNRES, ano_nasc\")"
   ]
  },
  {
   "cell_type": "markdown",
   "metadata": {},
   "source": [
    "# Quantidade de mulheres com escolaridade até 4 anos"
   ]
  },
  {
   "cell_type": "code",
   "execution_count": 14,
   "metadata": {},
   "outputs": [
    {
     "name": "stdout",
     "output_type": "stream",
     "text": [
      "CPU times: user 0 ns, sys: 0 ns, total: 0 ns\n",
      "Wall time: 0 ns\n",
      "...........................................(y)\n",
      "Record rows length : 42656\n"
     ]
    }
   ],
   "source": [
    "%time\n",
    "df_esc_ate_4 = fc.build_df_by_sql_query(\"SELECT CODMUNRES, ano_nasc, count(*) as NVM_COM_ESCOLARIDADE_ATE_3 \\\n",
    "                    FROM \\\"datasus-sinasc\\\" \\\n",
    "                    WHERE (ano_nasc>=2012 AND \\\n",
    "                    ano_nasc<=2020) AND \\\n",
    "                    (ESCMAE=1 OR ESCMAE=2) \\\n",
    "                    GROUP BY CODMUNRES, ano_nasc\")"
   ]
  },
  {
   "cell_type": "markdown",
   "metadata": {},
   "source": [
    "# Quantidade de mulheres com escolaridade de 4 a 7 anos"
   ]
  },
  {
   "cell_type": "code",
   "execution_count": 15,
   "metadata": {},
   "outputs": [
    {
     "name": "stdout",
     "output_type": "stream",
     "text": [
      "CPU times: user 3 µs, sys: 0 ns, total: 3 µs\n",
      "Wall time: 8.58 µs\n",
      "..................................................(y)\n",
      "Record rows length : 49795\n"
     ]
    }
   ],
   "source": [
    "%time\n",
    "df_esc_4_a_7 = fc.build_df_by_sql_query(\"SELECT CODMUNRES, ano_nasc, count(*) as NVM_COM_ESCOLARIDADE_DE_4_A_7 \\\n",
    "                    FROM \\\"datasus-sinasc\\\" \\\n",
    "                    WHERE (ano_nasc>=2012 AND \\\n",
    "                    ano_nasc<=2020) AND \\\n",
    "                    (ESCMAE=3) \\\n",
    "                    GROUP BY CODMUNRES, ano_nasc\")"
   ]
  },
  {
   "cell_type": "markdown",
   "metadata": {},
   "source": [
    "# Quantidade de mulheres com escolaridade de 8 até 11 anos"
   ]
  },
  {
   "cell_type": "code",
   "execution_count": 16,
   "metadata": {},
   "outputs": [
    {
     "name": "stdout",
     "output_type": "stream",
     "text": [
      "CPU times: user 0 ns, sys: 0 ns, total: 0 ns\n",
      "Wall time: 0 ns\n",
      "...................................................(y)\n",
      "Record rows length : 50232\n"
     ]
    }
   ],
   "source": [
    "%time\n",
    "df_esc_8_a_11 = fc.build_df_by_sql_query(\"SELECT CODMUNRES, ano_nasc, count(*) as NVM_COM_ESCOLARIDADE_DE_8_A_11 \\\n",
    "                    FROM \\\"datasus-sinasc\\\" \\\n",
    "                    WHERE (ano_nasc>=2012 AND \\\n",
    "                    ano_nasc<=2020) AND \\\n",
    "                    (ESCMAE=4) \\\n",
    "                    GROUP BY CODMUNRES, ano_nasc\")"
   ]
  },
  {
   "cell_type": "markdown",
   "metadata": {},
   "source": [
    "# Quantidade de mulheres com escolaridade mais de 11 anos"
   ]
  },
  {
   "cell_type": "code",
   "execution_count": 17,
   "metadata": {},
   "outputs": [
    {
     "name": "stdout",
     "output_type": "stream",
     "text": [
      "CPU times: user 6 µs, sys: 1 µs, total: 7 µs\n",
      "Wall time: 14.8 µs\n",
      "..................................................(y)\n",
      "Record rows length : 49798\n"
     ]
    }
   ],
   "source": [
    "%time\n",
    "df_esc_acima_de_11 = fc.build_df_by_sql_query(\"SELECT CODMUNRES, ano_nasc, count(*) as NVM_COM_ESCOLARIDADE_ACIMA_DE_11 \\\n",
    "                    FROM \\\"datasus-sinasc\\\" \\\n",
    "                    WHERE (ano_nasc>=2012 AND \\\n",
    "                    ano_nasc<=2020) AND \\\n",
    "                    (ESCMAE=5) \\\n",
    "                    GROUP BY CODMUNRES, ano_nasc\")"
   ]
  },
  {
   "cell_type": "markdown",
   "metadata": {},
   "source": [
    "# Cobertura populacional com equipes de saúde da familia"
   ]
  },
  {
   "cell_type": "code",
   "execution_count": 19,
   "metadata": {},
   "outputs": [
    {
     "name": "stdout",
     "output_type": "stream",
     "text": [
      ".........(+)\n",
      "..........(y)\n"
     ]
    }
   ],
   "source": [
    "# fonte do Historico-AB-MUNICIPIOS-2007-202012.xlsx:\n",
    "# https://egestorab.saude.gov.br/paginas/acessoPublico/relatorios/relHistoricoCoberturaConsolidado.xhtml\n",
    "df_array = []\n",
    "for i in range(9):\n",
    "    fc.dot_print()\n",
    "    df_array.append(pd.read_excel(\"Historico-AB-MUNICIPIOS-2007-202012.xlsx\", sheet_name = str(2012+i)))\n",
    "print('(+)')\n",
    "\n",
    "df_mun = pd.concat(df_array, ignore_index=True)\n",
    "fc.dot_print()\n",
    "df_mun = df_mun[['CO_MUNICIPIO_IBGE', 'NU_COMPETENCIA', 'PC_COBERTURA_SF', 'QT_COBERTURA_SF', 'QT_POPULACAO']]\n",
    "fc.dot_print()\n",
    "df_mun['NU_COMPETENCIA'] = df_mun['NU_COMPETENCIA'].astype(str)\n",
    "fc.dot_print()\n",
    "df_mun['CO_MUNICIPIO_IBGE'] = df_mun['CO_MUNICIPIO_IBGE'].astype(int)\n",
    "fc.dot_print()\n",
    "df_mun['PC_COBERTURA_SF'] = df_mun['PC_COBERTURA_SF'].apply(lambda x: float(x.split()[0].replace(',', '.')))\n",
    "fc.dot_print()\n",
    "df_mun['QT_COBERTURA_SF'] = df_mun['QT_COBERTURA_SF'].apply(lambda x: int(x.split()[0].replace('.', '').replace('\\'', '')))\n",
    "fc.dot_print()\n",
    "df_mun['QT_POPULACAO'] = df_mun['QT_POPULACAO'].apply(lambda x: int(x.split()[0].replace('.', '').replace('\\'', '')))\n",
    "fc.dot_print()\n",
    "f2d = df_mun['NU_COMPETENCIA'].str.extract('([0-9]{4})', expand=False)\n",
    "fc.dot_print()\n",
    "df_mun['ANO'] = f2d.astype(int)\n",
    "fc.dot_print()\n",
    "df_mun = df_mun.sort_values(by=['CO_MUNICIPIO_IBGE', 'NU_COMPETENCIA'])\n",
    "fc.dot_print()\n",
    "df_mun_1 = df_mun.groupby(['CO_MUNICIPIO_IBGE','ANO'])[['QT_COBERTURA_SF', 'QT_POPULACAO']].mean().reset_index()\n",
    "print('(y)')\n",
    "data = []\n",
    "df_cobertura_esf = pd.DataFrame(data, columns = ['CODMUNRES', 'ano_nasc', 'MEDIA_COBERTURA_ESF', 'POPULACAO_TOTAL'])\n",
    "df_cobertura_esf['CODMUNRES'] = df_mun_1['CO_MUNICIPIO_IBGE']\n",
    "df_cobertura_esf['ano_nasc'] = df_mun_1['ANO']\n",
    "df_cobertura_esf['MEDIA_COBERTURA_ESF'] = df_mun_1['QT_COBERTURA_SF']\n",
    "df_cobertura_esf['POPULACAO_TOTAL'] = df_mun_1['QT_POPULACAO']"
   ]
  },
  {
   "cell_type": "markdown",
   "metadata": {},
   "source": [
    "# População Feminina de 10 a 49 anos"
   ]
  },
  {
   "cell_type": "code",
   "execution_count": 25,
   "metadata": {},
   "outputs": [
    {
     "name": "stdout",
     "output_type": "stream",
     "text": [
      ".........(y)\n"
     ]
    }
   ],
   "source": [
    "pop_fem = []\n",
    "\n",
    "for i in range(9):\n",
    "    fc.dot_print()\n",
    "    pop_fem.extend(fc.fetch_pop_fem_from_tabnet(str(12+i).zfill(2), '49'))\n",
    "print('(y)')\n",
    "\n",
    "df_pop_fem = pd.DataFrame(pop_fem, columns = ['CODMUNRES', 'ano_nasc', 'POP_FEM_10_49'])\n",
    "\n",
    "#df_pop_fem = pd.read_csv('../../csv_files/Alternativas/indicadores_bloco1_socioeconomicos_2012-2020.csv')"
   ]
  },
  {
   "cell_type": "markdown",
   "metadata": {},
   "source": [
    "# População feminina com plano de saúde"
   ]
  },
  {
   "cell_type": "code",
   "execution_count": 26,
   "metadata": {},
   "outputs": [
    {
     "name": "stdout",
     "output_type": "stream",
     "text": [
      "...(y)\n"
     ]
    }
   ],
   "source": [
    "df_xlsx = pd.read_excel(\"analise_da_cobertura_sus_-_com_substituicoes_27_10_2022.xlsx\", sheet_name='cobertura sus por substituicao')\n",
    "df_aux = df_xlsx.iloc[:,[0,24,25,26,27,28,29,30,31,32]]\n",
    "df_aux = df_aux.dropna(subset=['codmun'])\n",
    "df_ano = pd.DataFrame()\n",
    "df_codmunres = pd.DataFrame()\n",
    "\n",
    "lista = []\n",
    "codmunres = []\n",
    "transposto = []\n",
    "fc.dot_print()\n",
    "for row in range(len(df_aux.index)):\n",
    "    codmunres.append(df_aux.iloc[row, 0])\n",
    "    lista.append(df_aux.iloc[row, 1:10].values.tolist())\n",
    "fc.dot_print()\n",
    "for i in range(len(lista)):\n",
    "    for j in range(len(lista[i])):\n",
    "        transposto.append(lista[i][j])\n",
    "fc.dot_print()\n",
    "\n",
    "df_codmunres['CODMUNRES'] = codmunres\n",
    "df_codmunres['CODMUNRES'] = df_codmunres['CODMUNRES'].astype(int)\n",
    "\n",
    "df_ano['ano_nasc'] = [2012,2013,2014,2015,2016,2017,2018,2019,2020]\n",
    "df_cob_sus = pd.merge(df_codmunres.assign(key=1), df_ano.assign(key=1),on='key').drop('key', axis=1)\n",
    "df_cob_sus['COBERTURA_SUS'] = transposto\n",
    "\n",
    "\n",
    "print('(y)')"
   ]
  },
  {
   "cell_type": "code",
   "execution_count": 29,
   "metadata": {},
   "outputs": [],
   "source": [
    "df_pop_fem_ps = pd.DataFrame([], columns = ['CODMUNRES', 'ano_nasc', 'POPULACAO_FEMININA_10_A_49', 'POP_FEM_10_49_COM_PLANO_SAUDE'])\n",
    "\n",
    "df_pop_fem_ps['CODMUNRES'] = df_cob_sus['CODMUNRES']\n",
    "df_pop_fem_ps['ano_nasc'] = df_cob_sus['ano_nasc']\n",
    "df_pop_fem_ps['POPULACAO_FEMININA_10_A_49'] = df_pop_fem['POP_FEM_10_49']\n",
    "#df_pop_fem_ps['POP_FEM_10_49_COM_PLANO_SAUDE'] = (df_acumulados['cobertura_saude_suplementar']*df_acumulados['total_mulheres']).astype(int)\n",
    "#df_pop_fem_ps['POP_FEM_10_49_COM_PLANO_SAUDE'] = (df_acumulados['cobertura_saude_suplementar']*df_pop_fem['POPULACAO_FEMININA_10_A_49'].astype(int)).astype(int)\n",
    "df_pop_fem_ps['POP_FEM_10_49_COM_PLANO_SAUDE'] = ((1.0-df_cob_sus['COBERTURA_SUS'])*df_pop_fem['POP_FEM_10_49'].astype(int)).astype(int) "
   ]
  },
  {
   "cell_type": "markdown",
   "metadata": {},
   "source": [
    "# Finalização"
   ]
  },
  {
   "cell_type": "code",
   "execution_count": 30,
   "metadata": {},
   "outputs": [],
   "source": [
    "# Conversão do CODMUNRES para inteiro, para que seja possível a junção\n",
    "base_df['CODMUNRES']=base_df['CODMUNRES'].astype(int)\n",
    "df_t_nasc_vivos['CODMUNRES']=df_t_nasc_vivos['CODMUNRES'].astype(int)\n",
    "df_menor20['CODMUNRES']=df_menor20['CODMUNRES'].astype(int)\n",
    "df_entre20_34['CODMUNRES']=df_entre20_34['CODMUNRES'].astype(int)\n",
    "df_maior35['CODMUNRES']=df_maior35['CODMUNRES'].astype(int)\n",
    "df_cor_branca['CODMUNRES']=df_cor_branca['CODMUNRES'].astype(int)\n",
    "df_cor_preta['CODMUNRES']=df_cor_preta['CODMUNRES'].astype(int)\n",
    "df_cor_parda['CODMUNRES']=df_cor_parda['CODMUNRES'].astype(int)\n",
    "df_cor_amarela['CODMUNRES']=df_cor_amarela['CODMUNRES'].astype(int)\n",
    "df_cor_indigena['CODMUNRES']=df_cor_indigena['CODMUNRES'].astype(int)\n",
    "df_esc_ate_4['CODMUNRES']=df_esc_ate_4['CODMUNRES'].astype(int)\n",
    "df_esc_4_a_7['CODMUNRES']=df_esc_4_a_7['CODMUNRES'].astype(int)\n",
    "df_esc_8_a_11['CODMUNRES']=df_esc_8_a_11['CODMUNRES'].astype(int)\n",
    "df_esc_acima_de_11['CODMUNRES']=df_esc_acima_de_11['CODMUNRES'].astype(int)\n",
    "df_cobertura_esf['CODMUNRES']=df_cobertura_esf['CODMUNRES'].astype(int)\n",
    "df_pop_fem_ps['CODMUNRES']=df_pop_fem_ps['CODMUNRES'].astype(int)\n",
    "df_pop_fem_ps['ano_nasc']=df_pop_fem_ps['ano_nasc'].astype(int)\n",
    "df_pop_fem['CODMUNRES']=df_pop_fem['CODMUNRES'].astype(int)\n",
    "df_pop_fem['ano_nasc']=df_pop_fem['ano_nasc'].astype(int)\n",
    "# Proporção mulheres 10 a 49 anos usuárias SUS\n",
    "# Tabela de subresgistro\n",
    "\n",
    "# Junção em um dataframe final\n",
    "df_final = pd.merge(base_df, df_t_nasc_vivos, how='left', on=['CODMUNRES','ano_nasc'])\n",
    "df_final = pd.merge(df_final, df_menor20, how='left', on=['CODMUNRES','ano_nasc'])\n",
    "df_final = pd.merge(df_final, df_entre20_34, how='left', on=['CODMUNRES','ano_nasc'])\n",
    "df_final = pd.merge(df_final, df_maior35, how='left', on=['CODMUNRES','ano_nasc'])\n",
    "df_final = pd.merge(df_final, df_cor_branca, how='left', on=['CODMUNRES','ano_nasc'])\n",
    "df_final = pd.merge(df_final, df_cor_preta, how='left', on=['CODMUNRES','ano_nasc'])\n",
    "df_final = pd.merge(df_final, df_cor_parda, how='left', on=['CODMUNRES','ano_nasc'])\n",
    "df_final = pd.merge(df_final, df_cor_amarela, how='left', on=['CODMUNRES','ano_nasc'])\n",
    "df_final = pd.merge(df_final, df_cor_indigena, how='left', on=['CODMUNRES','ano_nasc'])\n",
    "df_final = pd.merge(df_final, df_esc_ate_4, how='left', on=['CODMUNRES','ano_nasc'])\n",
    "df_final = pd.merge(df_final, df_esc_4_a_7, how='left', on=['CODMUNRES','ano_nasc'])\n",
    "df_final = pd.merge(df_final, df_esc_8_a_11, how='left', on=['CODMUNRES','ano_nasc'])\n",
    "df_final = pd.merge(df_final, df_esc_acima_de_11, how='left', on=['CODMUNRES','ano_nasc'])\n",
    "df_final = pd.merge(df_final, df_cobertura_esf, how='left', on=['CODMUNRES','ano_nasc'])\n",
    "df_final = pd.merge(df_final, df_pop_fem_ps, how='left', on=['CODMUNRES','ano_nasc'])\n",
    "#df_final = pd.merge(df_final, df_pop_fem, how='left', on=['CODMUNRES','ano_nasc'])\n",
    "\n",
    "# Preencher NaN com zeros\n",
    "df_final = df_final.fillna(0)\n",
    "df_final.rename(columns={'ano_nasc': 'ANO'},\n",
    "               inplace=True)\n",
    "\n",
    "del df_final['CODIGO_MUNICIPIO']\n",
    "\n",
    "[i in range(len(df_final.columns.values.tolist()))]\n",
    "aux = [i for i in range(len(df_final.columns.values.tolist()))]\n",
    "aux[0] = 1\n",
    "aux[1] = 0\n",
    "df_final = df_final.iloc[:, aux]"
   ]
  },
  {
   "cell_type": "code",
   "execution_count": 31,
   "metadata": {},
   "outputs": [
    {
     "data": {
      "text/html": [
       "<div>\n",
       "<style scoped>\n",
       "    .dataframe tbody tr th:only-of-type {\n",
       "        vertical-align: middle;\n",
       "    }\n",
       "\n",
       "    .dataframe tbody tr th {\n",
       "        vertical-align: top;\n",
       "    }\n",
       "\n",
       "    .dataframe thead th {\n",
       "        text-align: right;\n",
       "    }\n",
       "</style>\n",
       "<table border=\"1\" class=\"dataframe\">\n",
       "  <thead>\n",
       "    <tr style=\"text-align: right;\">\n",
       "      <th></th>\n",
       "      <th>CODMUNRES</th>\n",
       "      <th>ANO</th>\n",
       "      <th>TOTAL_DE_NASCIDOS_VIVOS</th>\n",
       "      <th>NVM_MENOR_QUE_20_ANOS</th>\n",
       "      <th>NVM_ENTRE_20_E_34_ANOS</th>\n",
       "      <th>NVM_MAIOR_QUE_34_ANOS</th>\n",
       "      <th>NVM_COM_COR_DA_PELE_BRANCA</th>\n",
       "      <th>NVM_COM_COR_DA_PELE_PRETA</th>\n",
       "      <th>NVM_COM_COR_DA_PELE_PARDA</th>\n",
       "      <th>NVM_COM_COR_DA_PELE_AMARELA</th>\n",
       "      <th>NVM_INDIGENAS</th>\n",
       "      <th>NVM_COM_ESCOLARIDADE_ATE_3</th>\n",
       "      <th>NVM_COM_ESCOLARIDADE_DE_4_A_7</th>\n",
       "      <th>NVM_COM_ESCOLARIDADE_DE_8_A_11</th>\n",
       "      <th>NVM_COM_ESCOLARIDADE_ACIMA_DE_11</th>\n",
       "      <th>MEDIA_COBERTURA_ESF</th>\n",
       "      <th>POPULACAO_TOTAL</th>\n",
       "      <th>POPULACAO_FEMININA_10_A_49</th>\n",
       "      <th>POP_FEM_10_49_COM_PLANO_SAUDE</th>\n",
       "    </tr>\n",
       "  </thead>\n",
       "  <tbody>\n",
       "    <tr>\n",
       "      <th>0</th>\n",
       "      <td>110001</td>\n",
       "      <td>2012</td>\n",
       "      <td>386.0</td>\n",
       "      <td>76.0</td>\n",
       "      <td>287.0</td>\n",
       "      <td>23.0</td>\n",
       "      <td>132.0</td>\n",
       "      <td>14.0</td>\n",
       "      <td>209.0</td>\n",
       "      <td>3.0</td>\n",
       "      <td>13.0</td>\n",
       "      <td>40.0</td>\n",
       "      <td>121.0</td>\n",
       "      <td>164.0</td>\n",
       "      <td>56.0</td>\n",
       "      <td>17250.0</td>\n",
       "      <td>24228.0</td>\n",
       "      <td>7810</td>\n",
       "      <td>624</td>\n",
       "    </tr>\n",
       "    <tr>\n",
       "      <th>1</th>\n",
       "      <td>110001</td>\n",
       "      <td>2013</td>\n",
       "      <td>382.0</td>\n",
       "      <td>79.0</td>\n",
       "      <td>277.0</td>\n",
       "      <td>26.0</td>\n",
       "      <td>138.0</td>\n",
       "      <td>8.0</td>\n",
       "      <td>194.0</td>\n",
       "      <td>1.0</td>\n",
       "      <td>17.0</td>\n",
       "      <td>32.0</td>\n",
       "      <td>113.0</td>\n",
       "      <td>178.0</td>\n",
       "      <td>49.0</td>\n",
       "      <td>17537.5</td>\n",
       "      <td>24069.0</td>\n",
       "      <td>32588</td>\n",
       "      <td>2607</td>\n",
       "    </tr>\n",
       "    <tr>\n",
       "      <th>2</th>\n",
       "      <td>110001</td>\n",
       "      <td>2014</td>\n",
       "      <td>341.0</td>\n",
       "      <td>69.0</td>\n",
       "      <td>236.0</td>\n",
       "      <td>36.0</td>\n",
       "      <td>106.0</td>\n",
       "      <td>8.0</td>\n",
       "      <td>167.0</td>\n",
       "      <td>1.0</td>\n",
       "      <td>21.0</td>\n",
       "      <td>26.0</td>\n",
       "      <td>108.0</td>\n",
       "      <td>166.0</td>\n",
       "      <td>30.0</td>\n",
       "      <td>20700.0</td>\n",
       "      <td>25728.0</td>\n",
       "      <td>1873</td>\n",
       "      <td>149</td>\n",
       "    </tr>\n",
       "    <tr>\n",
       "      <th>3</th>\n",
       "      <td>110001</td>\n",
       "      <td>2015</td>\n",
       "      <td>373.0</td>\n",
       "      <td>74.0</td>\n",
       "      <td>277.0</td>\n",
       "      <td>22.0</td>\n",
       "      <td>117.0</td>\n",
       "      <td>8.0</td>\n",
       "      <td>203.0</td>\n",
       "      <td>0.0</td>\n",
       "      <td>25.0</td>\n",
       "      <td>20.0</td>\n",
       "      <td>108.0</td>\n",
       "      <td>186.0</td>\n",
       "      <td>55.0</td>\n",
       "      <td>17250.0</td>\n",
       "      <td>25652.0</td>\n",
       "      <td>27621</td>\n",
       "      <td>2209</td>\n",
       "    </tr>\n",
       "    <tr>\n",
       "      <th>4</th>\n",
       "      <td>110001</td>\n",
       "      <td>2016</td>\n",
       "      <td>326.0</td>\n",
       "      <td>58.0</td>\n",
       "      <td>244.0</td>\n",
       "      <td>24.0</td>\n",
       "      <td>88.0</td>\n",
       "      <td>4.0</td>\n",
       "      <td>193.0</td>\n",
       "      <td>0.0</td>\n",
       "      <td>23.0</td>\n",
       "      <td>25.0</td>\n",
       "      <td>88.0</td>\n",
       "      <td>152.0</td>\n",
       "      <td>55.0</td>\n",
       "      <td>20412.5</td>\n",
       "      <td>25578.0</td>\n",
       "      <td>5676</td>\n",
       "      <td>454</td>\n",
       "    </tr>\n",
       "  </tbody>\n",
       "</table>\n",
       "</div>"
      ],
      "text/plain": [
       "   CODMUNRES   ANO  TOTAL_DE_NASCIDOS_VIVOS  NVM_MENOR_QUE_20_ANOS  \\\n",
       "0     110001  2012                    386.0                   76.0   \n",
       "1     110001  2013                    382.0                   79.0   \n",
       "2     110001  2014                    341.0                   69.0   \n",
       "3     110001  2015                    373.0                   74.0   \n",
       "4     110001  2016                    326.0                   58.0   \n",
       "\n",
       "   NVM_ENTRE_20_E_34_ANOS  NVM_MAIOR_QUE_34_ANOS  NVM_COM_COR_DA_PELE_BRANCA  \\\n",
       "0                   287.0                   23.0                       132.0   \n",
       "1                   277.0                   26.0                       138.0   \n",
       "2                   236.0                   36.0                       106.0   \n",
       "3                   277.0                   22.0                       117.0   \n",
       "4                   244.0                   24.0                        88.0   \n",
       "\n",
       "   NVM_COM_COR_DA_PELE_PRETA  NVM_COM_COR_DA_PELE_PARDA  \\\n",
       "0                       14.0                      209.0   \n",
       "1                        8.0                      194.0   \n",
       "2                        8.0                      167.0   \n",
       "3                        8.0                      203.0   \n",
       "4                        4.0                      193.0   \n",
       "\n",
       "   NVM_COM_COR_DA_PELE_AMARELA  NVM_INDIGENAS  NVM_COM_ESCOLARIDADE_ATE_3  \\\n",
       "0                          3.0           13.0                        40.0   \n",
       "1                          1.0           17.0                        32.0   \n",
       "2                          1.0           21.0                        26.0   \n",
       "3                          0.0           25.0                        20.0   \n",
       "4                          0.0           23.0                        25.0   \n",
       "\n",
       "   NVM_COM_ESCOLARIDADE_DE_4_A_7  NVM_COM_ESCOLARIDADE_DE_8_A_11  \\\n",
       "0                          121.0                           164.0   \n",
       "1                          113.0                           178.0   \n",
       "2                          108.0                           166.0   \n",
       "3                          108.0                           186.0   \n",
       "4                           88.0                           152.0   \n",
       "\n",
       "   NVM_COM_ESCOLARIDADE_ACIMA_DE_11  MEDIA_COBERTURA_ESF  POPULACAO_TOTAL  \\\n",
       "0                              56.0              17250.0          24228.0   \n",
       "1                              49.0              17537.5          24069.0   \n",
       "2                              30.0              20700.0          25728.0   \n",
       "3                              55.0              17250.0          25652.0   \n",
       "4                              55.0              20412.5          25578.0   \n",
       "\n",
       "  POPULACAO_FEMININA_10_A_49  POP_FEM_10_49_COM_PLANO_SAUDE  \n",
       "0                       7810                            624  \n",
       "1                      32588                           2607  \n",
       "2                       1873                            149  \n",
       "3                      27621                           2209  \n",
       "4                       5676                            454  "
      ]
     },
     "execution_count": 31,
     "metadata": {},
     "output_type": "execute_result"
    }
   ],
   "source": [
    "df_final.head()"
   ]
  },
  {
   "cell_type": "code",
   "execution_count": 32,
   "metadata": {},
   "outputs": [
    {
     "data": {
      "text/plain": [
       "['CODMUNRES',\n",
       " 'ANO',\n",
       " 'TOTAL_DE_NASCIDOS_VIVOS',\n",
       " 'NVM_MENOR_QUE_20_ANOS',\n",
       " 'NVM_ENTRE_20_E_34_ANOS',\n",
       " 'NVM_MAIOR_QUE_34_ANOS',\n",
       " 'NVM_COM_COR_DA_PELE_BRANCA',\n",
       " 'NVM_COM_COR_DA_PELE_PRETA',\n",
       " 'NVM_COM_COR_DA_PELE_PARDA',\n",
       " 'NVM_COM_COR_DA_PELE_AMARELA',\n",
       " 'NVM_INDIGENAS',\n",
       " 'NVM_COM_ESCOLARIDADE_ATE_3',\n",
       " 'NVM_COM_ESCOLARIDADE_DE_4_A_7',\n",
       " 'NVM_COM_ESCOLARIDADE_DE_8_A_11',\n",
       " 'NVM_COM_ESCOLARIDADE_ACIMA_DE_11',\n",
       " 'MEDIA_COBERTURA_ESF',\n",
       " 'POPULACAO_TOTAL',\n",
       " 'POPULACAO_FEMININA_10_A_49',\n",
       " 'POP_FEM_10_49_COM_PLANO_SAUDE']"
      ]
     },
     "execution_count": 32,
     "metadata": {},
     "output_type": "execute_result"
    }
   ],
   "source": [
    "df_final.columns.values.tolist()"
   ]
  },
  {
   "cell_type": "code",
   "execution_count": 33,
   "metadata": {},
   "outputs": [],
   "source": [
    "df_final.to_csv('./indicadores_bloco1_socioeconomicos_2012-2020.csv',index=False)"
   ]
  },
  {
   "cell_type": "code",
   "execution_count": null,
   "metadata": {},
   "outputs": [],
   "source": []
  }
 ],
 "metadata": {
  "kernelspec": {
   "display_name": "Python 3 (ipykernel)",
   "language": "python",
   "name": "python3"
  },
  "language_info": {
   "codemirror_mode": {
    "name": "ipython",
    "version": 3
   },
   "file_extension": ".py",
   "mimetype": "text/x-python",
   "name": "python",
   "nbconvert_exporter": "python",
   "pygments_lexer": "ipython3",
   "version": "3.8.10"
  },
  "toc-autonumbering": true,
  "toc-showcode": false,
  "toc-showmarkdowntxt": true
 },
 "nbformat": 4,
 "nbformat_minor": 4
}
