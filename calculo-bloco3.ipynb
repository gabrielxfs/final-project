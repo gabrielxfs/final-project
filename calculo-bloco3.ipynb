{
 "cells": [
  {
   "cell_type": "markdown",
   "metadata": {},
   "source": [
    "# Introdução"
   ]
  },
  {
   "cell_type": "markdown",
   "metadata": {},
   "source": [
    "## Importação das bibliotecas necessarias"
   ]
  },
  {
   "cell_type": "code",
   "execution_count": 22,
   "metadata": {},
   "outputs": [],
   "source": [
    "import requests\n",
    "import pandas as pd\n",
    "import os\n",
    "import json\n",
    "import sys\n",
    "import matplotlib.pyplot as plt\n",
    "import funcoes_comuns as fc\n",
    "from importlib import reload\n",
    "reload(fc)"
   ]
  },
  {
   "cell_type": "markdown",
   "metadata": {},
   "source": [
    "# Dataframe base de Código do município e Ano"
   ]
  },
  {
   "cell_type": "code",
   "execution_count": 3,
   "metadata": {},
   "outputs": [
    {
     "data": {
      "text/html": [
       "<div>\n",
       "<style scoped>\n",
       "    .dataframe tbody tr th:only-of-type {\n",
       "        vertical-align: middle;\n",
       "    }\n",
       "\n",
       "    .dataframe tbody tr th {\n",
       "        vertical-align: top;\n",
       "    }\n",
       "\n",
       "    .dataframe thead th {\n",
       "        text-align: right;\n",
       "    }\n",
       "</style>\n",
       "<table border=\"1\" class=\"dataframe\">\n",
       "  <thead>\n",
       "    <tr style=\"text-align: right;\">\n",
       "      <th></th>\n",
       "      <th>CODIGO_MUNICIPIO</th>\n",
       "      <th>ano_nasc</th>\n",
       "      <th>CODMUNRES</th>\n",
       "    </tr>\n",
       "  </thead>\n",
       "  <tbody>\n",
       "    <tr>\n",
       "      <th>0</th>\n",
       "      <td>1100015</td>\n",
       "      <td>2012</td>\n",
       "      <td>110001</td>\n",
       "    </tr>\n",
       "    <tr>\n",
       "      <th>1</th>\n",
       "      <td>1100015</td>\n",
       "      <td>2013</td>\n",
       "      <td>110001</td>\n",
       "    </tr>\n",
       "    <tr>\n",
       "      <th>2</th>\n",
       "      <td>1100015</td>\n",
       "      <td>2014</td>\n",
       "      <td>110001</td>\n",
       "    </tr>\n",
       "    <tr>\n",
       "      <th>3</th>\n",
       "      <td>1100015</td>\n",
       "      <td>2015</td>\n",
       "      <td>110001</td>\n",
       "    </tr>\n",
       "    <tr>\n",
       "      <th>4</th>\n",
       "      <td>1100015</td>\n",
       "      <td>2016</td>\n",
       "      <td>110001</td>\n",
       "    </tr>\n",
       "  </tbody>\n",
       "</table>\n",
       "</div>"
      ],
      "text/plain": [
       "  CODIGO_MUNICIPIO  ano_nasc CODMUNRES\n",
       "0          1100015      2012    110001\n",
       "1          1100015      2013    110001\n",
       "2          1100015      2014    110001\n",
       "3          1100015      2015    110001\n",
       "4          1100015      2016    110001"
      ]
     },
     "execution_count": 3,
     "metadata": {},
     "output_type": "execute_result"
    }
   ],
   "source": [
    "base_df = fc.get_tb_municipios()\n",
    "base_df.head()"
   ]
  },
  {
   "cell_type": "markdown",
   "metadata": {},
   "source": [
    "# Nascidos vivos de mulheres de 2012 a 2020"
   ]
  },
  {
   "cell_type": "code",
   "execution_count": 4,
   "metadata": {},
   "outputs": [
    {
     "name": "stdout",
     "output_type": "stream",
     "text": [
      "CPU times: user 3 µs, sys: 1e+03 ns, total: 4 µs\n",
      "Wall time: 7.87 µs\n",
      "...................................................(y)\n",
      "Record rows length : 50268\n"
     ]
    }
   ],
   "source": [
    "%time\n",
    "df_t_nasc_vivos = fc.build_df_by_sql_query(\"SELECT CODMUNRES, ano_nasc, count(*) as TOTAL_DE_NASCIDOS_VIVOS \\\n",
    "                    FROM \\\"datasus-sinasc\\\" \\\n",
    "                    WHERE ano_nasc>=2012 AND \\\n",
    "                    ano_nasc<=2020 \\\n",
    "                    GROUP BY CODMUNRES, ano_nasc\")"
   ]
  },
  {
   "cell_type": "markdown",
   "metadata": {
    "toc-hr-collapsed": false
   },
   "source": [
    "# Quantidade de mulheres com pelo menos uma consulta de pré-natal"
   ]
  },
  {
   "cell_type": "code",
   "execution_count": 5,
   "metadata": {},
   "outputs": [
    {
     "name": "stdout",
     "output_type": "stream",
     "text": [
      "CPU times: user 0 ns, sys: 0 ns, total: 0 ns\n",
      "Wall time: 0 ns\n",
      ".............................................(y)\n",
      "Record rows length : 44660\n"
     ]
    }
   ],
   "source": [
    "%time\n",
    "df_consultas_1_pre_natal = fc.build_df_by_sql_query(\"SELECT CODMUNRES, ano_nasc, \\\n",
    "                    count(*) as MULHERES_COM_PELO_MENOS_UMA_CONSULTA_PRENATAL \\\n",
    "                    FROM \\\"datasus-sinasc\\\" \\\n",
    "                    WHERE (ano_nasc>=2012 AND \\\n",
    "                    ano_nasc<=2020) AND \\\n",
    "                    CONSPRENAT>=1 \\\n",
    "                    GROUP BY CODMUNRES, ano_nasc\")"
   ]
  },
  {
   "cell_type": "markdown",
   "metadata": {},
   "source": [
    "# Quantidade de mulheres com início do pré-natal nos três primeiros meses de gestação"
   ]
  },
  {
   "cell_type": "code",
   "execution_count": 6,
   "metadata": {},
   "outputs": [
    {
     "name": "stdout",
     "output_type": "stream",
     "text": [
      "CPU times: user 3 µs, sys: 1e+03 ns, total: 4 µs\n",
      "Wall time: 7.39 µs\n",
      "...................................................(y)\n",
      "Record rows length : 50230\n"
     ]
    }
   ],
   "source": [
    "%time\n",
    "df_3mes_prenatal = fc.build_df_by_sql_query(\"SELECT CODMUNRES, ano_nasc, \\\n",
    "                    count(*) as MULHERES_COM_INICIO_PRECOCE_DO_PRENATAL \\\n",
    "                    FROM \\\"datasus-sinasc\\\" \\\n",
    "                    WHERE (ano_nasc>=2012 AND \\\n",
    "                    ano_nasc<=2020) AND \\\n",
    "                    (MESPRENAT=1 OR MESPRENAT=2 OR MESPRENAT=3) \\\n",
    "                    GROUP BY CODMUNRES, ano_nasc\")"
   ]
  },
  {
   "cell_type": "markdown",
   "metadata": {},
   "source": [
    "# Número de mulheres com mais de sete consultas de pré-natal"
   ]
  },
  {
   "cell_type": "code",
   "execution_count": 7,
   "metadata": {},
   "outputs": [
    {
     "name": "stdout",
     "output_type": "stream",
     "text": [
      "CPU times: user 0 ns, sys: 0 ns, total: 0 ns\n",
      "Wall time: 0 ns\n",
      ".............................................(y)\n",
      "Record rows length : 44619\n"
     ]
    }
   ],
   "source": [
    "%time\n",
    "df_consultas_7_pre_natal = fc.build_df_by_sql_query(\"SELECT CODMUNRES, ano_nasc, \\\n",
    "                    count(*) as MULHERES_COM_MAIS_DE_SETE_CONSULTAS_PRENATAL \\\n",
    "                    FROM \\\"datasus-sinasc\\\" \\\n",
    "                    WHERE ano_nasc>=2012 AND \\\n",
    "                    ano_nasc<=2020 AND \\\n",
    "                    CONSPRENAT>7 \\\n",
    "                    GROUP BY CODMUNRES, ano_nasc\")"
   ]
  },
  {
   "cell_type": "markdown",
   "metadata": {},
   "source": [
    "# Incidência de sífilis congênita"
   ]
  },
  {
   "cell_type": "code",
   "execution_count": 9,
   "metadata": {},
   "outputs": [
    {
     "name": "stdout",
     "output_type": "stream",
     "text": [
      "..."
     ]
    }
   ],
   "source": [
    "dfs = pd.read_excel('Sifilis_congenita_por municipio_2012_2020.xlsx')\n",
    "df_new = pd.DataFrame()\n",
    "df_ano = pd.DataFrame()\n",
    "df_codmunres = pd.DataFrame()\n",
    "\n",
    "lista = []\n",
    "codmunres = []\n",
    "transposto = []\n",
    "fc.dot_print()\n",
    "for row in range(1,len(dfs.index)):\n",
    "    codmunres.append(dfs.loc[row, 1])\n",
    "    lista.append(dfs.loc[row, 6:14].values.tolist())\n",
    "fc.dot_print()\n",
    "for i in range(len(lista)):\n",
    "    for j in range(len(lista[i])):\n",
    "        transposto.append(lista[i][j])\n",
    "fc.dot_print()\n",
    "df_codmunres['CODMUNRES'] = codmunres\n",
    "df_codmunres['CODMUNRES'] = df_codmunres['CODMUNRES'].astype(int)\n",
    "\n",
    "key = ['CODMUNRES','ano_nasc']\n",
    "\n",
    "df_ano['ano_nasc'] = [2012,2013,2014,2015,2016,2017,2018,2019,2020]\n",
    "df_sifilis_congenita = pd.merge(df_codmunres.assign(key=1), df_ano.assign(key=1),on='key').drop('key', axis=1)\n",
    "df_sifilis_congenita['CASOS_SC'] = transposto"
   ]
  },
  {
   "cell_type": "markdown",
   "metadata": {},
   "source": [
    "# Finalização"
   ]
  },
  {
   "cell_type": "code",
   "execution_count": 10,
   "metadata": {},
   "outputs": [],
   "source": [
    "# Conversão do CODMUNRES para inteiro, para que seja possível a junção\n",
    "base_df['CODMUNRES']=base_df['CODMUNRES'].astype(int)\n",
    "df_t_nasc_vivos['CODMUNRES']=df_t_nasc_vivos['CODMUNRES'].astype(int)\n",
    "df_consultas_1_pre_natal['CODMUNRES']=df_consultas_1_pre_natal['CODMUNRES'].astype(int)\n",
    "df_3mes_prenatal['CODMUNRES']=df_3mes_prenatal['CODMUNRES'].astype(int)\n",
    "df_consultas_7_pre_natal['CODMUNRES']=df_consultas_7_pre_natal['CODMUNRES'].astype(int)\n",
    "df_sifilis_congenita['CODMUNRES'] = df_sifilis_congenita['CODMUNRES'].astype(int)\n",
    "\n",
    "# Junção em um dataframe final\n",
    "df_final = pd.merge(base_df, df_t_nasc_vivos, how='left', on=['CODMUNRES','ano_nasc'])\n",
    "df_final = pd.merge(df_final, df_consultas_1_pre_natal, how='left', on=['CODMUNRES','ano_nasc'])\n",
    "df_final = pd.merge(df_final, df_3mes_prenatal, how='left', on=['CODMUNRES','ano_nasc'])\n",
    "df_final = pd.merge(df_final, df_consultas_7_pre_natal, how='left', on=['CODMUNRES','ano_nasc'])\n",
    "df_final = pd.merge(df_final, df_sifilis_congenita, how='left', on=['CODMUNRES','ano_nasc'])\n",
    "# Sífilis congênita\n",
    "\n",
    "# Preencher NaN com zeros\n",
    "df_final = df_final.fillna(0)\n",
    "df_final.rename(columns={'ano_nasc': 'ANO'},\n",
    "               inplace=True)\n",
    "\n",
    "del df_final['CODIGO_MUNICIPIO']\n",
    "\n",
    "[i in range(len(df_final.columns.values.tolist()))]\n",
    "aux = [i for i in range(len(df_final.columns.values.tolist()))]\n",
    "aux[0] = 1\n",
    "aux[1] = 0\n",
    "df_final = df_final.iloc[:, aux]"
   ]
  },
  {
   "cell_type": "code",
   "execution_count": 11,
   "metadata": {},
   "outputs": [
    {
     "data": {
      "text/html": [
       "<div>\n",
       "<style scoped>\n",
       "    .dataframe tbody tr th:only-of-type {\n",
       "        vertical-align: middle;\n",
       "    }\n",
       "\n",
       "    .dataframe tbody tr th {\n",
       "        vertical-align: top;\n",
       "    }\n",
       "\n",
       "    .dataframe thead th {\n",
       "        text-align: right;\n",
       "    }\n",
       "</style>\n",
       "<table border=\"1\" class=\"dataframe\">\n",
       "  <thead>\n",
       "    <tr style=\"text-align: right;\">\n",
       "      <th></th>\n",
       "      <th>CODMUNRES</th>\n",
       "      <th>ANO</th>\n",
       "      <th>TOTAL_DE_NASCIDOS_VIVOS</th>\n",
       "      <th>MULHERES_COM_PELO_MENOS_UMA_CONSULTA_PRENATAL</th>\n",
       "      <th>MULHERES_COM_INICIO_PRECOCE_DO_PRENATAL</th>\n",
       "      <th>MULHERES_COM_MAIS_DE_SETE_CONSULTAS_PRENATAL</th>\n",
       "      <th>CASOS_SC</th>\n",
       "    </tr>\n",
       "  </thead>\n",
       "  <tbody>\n",
       "    <tr>\n",
       "      <th>0</th>\n",
       "      <td>110001</td>\n",
       "      <td>2012</td>\n",
       "      <td>386.0</td>\n",
       "      <td>381.0</td>\n",
       "      <td>277.0</td>\n",
       "      <td>156.0</td>\n",
       "      <td>0</td>\n",
       "    </tr>\n",
       "    <tr>\n",
       "      <th>1</th>\n",
       "      <td>110001</td>\n",
       "      <td>2013</td>\n",
       "      <td>382.0</td>\n",
       "      <td>0.0</td>\n",
       "      <td>275.0</td>\n",
       "      <td>0.0</td>\n",
       "      <td>0</td>\n",
       "    </tr>\n",
       "    <tr>\n",
       "      <th>2</th>\n",
       "      <td>110001</td>\n",
       "      <td>2014</td>\n",
       "      <td>341.0</td>\n",
       "      <td>338.0</td>\n",
       "      <td>245.0</td>\n",
       "      <td>146.0</td>\n",
       "      <td>0</td>\n",
       "    </tr>\n",
       "    <tr>\n",
       "      <th>3</th>\n",
       "      <td>110001</td>\n",
       "      <td>2015</td>\n",
       "      <td>373.0</td>\n",
       "      <td>361.0</td>\n",
       "      <td>282.0</td>\n",
       "      <td>140.0</td>\n",
       "      <td>0</td>\n",
       "    </tr>\n",
       "    <tr>\n",
       "      <th>4</th>\n",
       "      <td>110001</td>\n",
       "      <td>2016</td>\n",
       "      <td>326.0</td>\n",
       "      <td>321.0</td>\n",
       "      <td>252.0</td>\n",
       "      <td>147.0</td>\n",
       "      <td>0</td>\n",
       "    </tr>\n",
       "  </tbody>\n",
       "</table>\n",
       "</div>"
      ],
      "text/plain": [
       "   CODMUNRES   ANO  TOTAL_DE_NASCIDOS_VIVOS  \\\n",
       "0     110001  2012                    386.0   \n",
       "1     110001  2013                    382.0   \n",
       "2     110001  2014                    341.0   \n",
       "3     110001  2015                    373.0   \n",
       "4     110001  2016                    326.0   \n",
       "\n",
       "   MULHERES_COM_PELO_MENOS_UMA_CONSULTA_PRENATAL  \\\n",
       "0                                          381.0   \n",
       "1                                            0.0   \n",
       "2                                          338.0   \n",
       "3                                          361.0   \n",
       "4                                          321.0   \n",
       "\n",
       "   MULHERES_COM_INICIO_PRECOCE_DO_PRENATAL  \\\n",
       "0                                    277.0   \n",
       "1                                    275.0   \n",
       "2                                    245.0   \n",
       "3                                    282.0   \n",
       "4                                    252.0   \n",
       "\n",
       "   MULHERES_COM_MAIS_DE_SETE_CONSULTAS_PRENATAL  CASOS_SC  \n",
       "0                                         156.0         0  \n",
       "1                                           0.0         0  \n",
       "2                                         146.0         0  \n",
       "3                                         140.0         0  \n",
       "4                                         147.0         0  "
      ]
     },
     "execution_count": 11,
     "metadata": {},
     "output_type": "execute_result"
    }
   ],
   "source": [
    "df_final.head()"
   ]
  },
  {
   "cell_type": "code",
   "execution_count": 12,
   "metadata": {},
   "outputs": [
    {
     "data": {
      "text/plain": [
       "['CODMUNRES',\n",
       " 'ANO',\n",
       " 'TOTAL_DE_NASCIDOS_VIVOS',\n",
       " 'MULHERES_COM_PELO_MENOS_UMA_CONSULTA_PRENATAL',\n",
       " 'MULHERES_COM_INICIO_PRECOCE_DO_PRENATAL',\n",
       " 'MULHERES_COM_MAIS_DE_SETE_CONSULTAS_PRENATAL',\n",
       " 'CASOS_SC']"
      ]
     },
     "execution_count": 12,
     "metadata": {},
     "output_type": "execute_result"
    }
   ],
   "source": [
    "df_final.columns.values.tolist()"
   ]
  },
  {
   "cell_type": "code",
   "execution_count": 13,
   "metadata": {},
   "outputs": [],
   "source": [
    "df_final.to_csv('./indicadores_bloco3_assistencia_pre-natal_2012-2020.csv',index=False)"
   ]
  },
  {
   "cell_type": "code",
   "execution_count": 12,
   "metadata": {},
   "outputs": [
    {
     "name": "stdout",
     "output_type": "stream",
     "text": [
      "CPU times: user 2 µs, sys: 2 µs, total: 4 µs\n",
      "Wall time: 8.82 µs\n",
      ".(y)\n",
      "Record rows length : 5\n"
     ]
    }
   ],
   "source": [
    "%time\n",
    "df_consprenat = fc.build_df_by_sql_query(\"SELECT CONSULTAS, \\\n",
    "                    count(*) as TOTAL_CONSULTAS_2013 \\\n",
    "                    FROM \\\"datasus-sinasc\\\" \\\n",
    "                    WHERE ano_nasc=2013 \\\n",
    "                    GROUP BY CONSULTAS\")"
   ]
  },
  {
   "cell_type": "code",
   "execution_count": 13,
   "metadata": {},
   "outputs": [
    {
     "data": {
      "text/html": [
       "<div>\n",
       "<style scoped>\n",
       "    .dataframe tbody tr th:only-of-type {\n",
       "        vertical-align: middle;\n",
       "    }\n",
       "\n",
       "    .dataframe tbody tr th {\n",
       "        vertical-align: top;\n",
       "    }\n",
       "\n",
       "    .dataframe thead th {\n",
       "        text-align: right;\n",
       "    }\n",
       "</style>\n",
       "<table border=\"1\" class=\"dataframe\">\n",
       "  <thead>\n",
       "    <tr style=\"text-align: right;\">\n",
       "      <th></th>\n",
       "      <th>CONSULTAS</th>\n",
       "      <th>TOTAL_CONSULTAS_2013</th>\n",
       "    </tr>\n",
       "  </thead>\n",
       "  <tbody>\n",
       "    <tr>\n",
       "      <th>0</th>\n",
       "      <td>1</td>\n",
       "      <td>77906</td>\n",
       "    </tr>\n",
       "    <tr>\n",
       "      <th>1</th>\n",
       "      <td>2</td>\n",
       "      <td>212293</td>\n",
       "    </tr>\n",
       "    <tr>\n",
       "      <th>2</th>\n",
       "      <td>3</td>\n",
       "      <td>769261</td>\n",
       "    </tr>\n",
       "    <tr>\n",
       "      <th>3</th>\n",
       "      <td>4</td>\n",
       "      <td>1812681</td>\n",
       "    </tr>\n",
       "    <tr>\n",
       "      <th>4</th>\n",
       "      <td>9</td>\n",
       "      <td>31886</td>\n",
       "    </tr>\n",
       "  </tbody>\n",
       "</table>\n",
       "</div>"
      ],
      "text/plain": [
       "  CONSULTAS  TOTAL_CONSULTAS_2013\n",
       "0         1                 77906\n",
       "1         2                212293\n",
       "2         3                769261\n",
       "3         4               1812681\n",
       "4         9                 31886"
      ]
     },
     "execution_count": 13,
     "metadata": {},
     "output_type": "execute_result"
    }
   ],
   "source": [
    "df_consprenat.head(30)"
   ]
  },
  {
   "cell_type": "code",
   "execution_count": 7,
   "metadata": {},
   "outputs": [
    {
     "name": "stdout",
     "output_type": "stream",
     "text": [
      "CPU times: user 2 µs, sys: 1e+03 ns, total: 3 µs\n",
      "Wall time: 8.58 µs\n",
      "['APGAR1', 'APGAR5', 'CODANOMAL', 'CODBAINASC', 'CODBAIRES', 'CODCART', 'CODESTAB', 'CODINST', 'CODMUNCART', 'CODMUNNASC', 'CODMUNNATU', 'CODMUNRES', 'CODOCUPMAE', 'CODPAISRES', 'CODUFNATU', 'CONSPRENAT', 'CONSULTAS', 'CONTADOR', 'DIFDATA', 'DTCADASTRO', 'DTDECLARAC', 'DTNASC', 'DTNASCMAE', 'DTRECEBIM', 'DTRECORIG', 'DTRECORIGA', 'DTREGCART', 'DTULTMENST', 'ESCMAE', 'ESCMAE2010', 'ESCMAEAGR1', 'ESTCIVMAE', 'GESTACAO', 'GRAVIDEZ', 'HORANASC', 'IDADEMAE', 'IDADEPAI', 'IDANOMAL', 'KOTELCHUCK', 'LOCNASC', 'MESPRENAT', 'NATURALMAE', 'NOVO', 'NUMERODN', 'NUMERODV', 'NUMEROLOTE', 'NUMREGCART', 'ORIGEM', 'PARIDADE', 'PARTO', 'PESO', 'PREFIXODN', 'QTDFILMORT', 'QTDFILVIVO', 'QTDGESTANT', 'QTDPARTCES', 'QTDPARTNOR', 'RACACOR', 'RACACORMAE', 'RACACORN', 'RACACOR_RN', 'SEMAGESTAC', 'SERIESCMAE', 'SEXO', 'STCESPARTO', 'STDNEPIDEM', 'STDNNOVA', 'STTRABPART', 'TPAPRESENT', 'TPDOCRESP', 'TPFUNCRESP', 'TPMETESTIM', 'TPNASCASSI', 'TPROBSON', 'UFINFORM', 'VERSAOSIST', 'VERSAOSIST.keyword', 'ano_nasc', 'codanomal_capitulo', 'codanomal_categoria', 'codanomal_grupo', 'codanomal_subcategoria', 'contador', 'data_nasc', 'def_anomalia', 'def_anomalia.keyword', 'def_consultas', 'def_escol_mae', 'def_est_civil', 'def_gestacao', 'def_gravidez', 'def_loc_nasc', 'def_parto', 'def_parto_prematuro', 'def_parto_prematuro.keyword', 'def_raca_cor', 'def_sexo', 'dia_semana_nasc', 'nasc_ALTITUDE', 'nasc_AMAZONIA', 'nasc_AREA', 'nasc_CAPITAL', 'nasc_CODIGO_UF', 'nasc_CSAUDCOD', 'nasc_FRONTEIRA', 'nasc_LATITUDE', 'nasc_LONGITUDE', 'nasc_MSAUDCOD', 'nasc_MUNNOME', 'nasc_MUNNOMEX', 'nasc_NOME_UF', 'nasc_REGIAO', 'nasc_REGIAO.keyword', 'nasc_RSAUDCOD', 'nasc_SIGLA_UF', 'nasc_codigo_adotado', 'nasc_coordenadas', 'parto_prematuro', 'res_ALTITUDE', 'res_AMAZONIA', 'res_ANOEXT', 'res_ANOEXT.keyword', 'res_AREA', 'res_CAPITAL', 'res_CODIGO_UF', 'res_CSAUDCOD', 'res_FRONTEIRA', 'res_LATITUDE', 'res_LONGITUDE', 'res_MSAUDCOD', 'res_MUNNOME', 'res_MUNNOMEX', 'res_NOME_UF', 'res_REGIAO', 'res_REGIAO.keyword', 'res_RSAUDCOD', 'res_SIGLA_UF', 'res_SUCESSOR', 'res_SUCESSOR.keyword', 'res_codigo_adotado', 'res_coordenadas']\n"
     ]
    }
   ],
   "source": [
    "%time\n",
    "sql = {\n",
    "          \"token\": {\n",
    "            \"token\": fc.token\n",
    "          },\n",
    "          \"sql\": {\n",
    "            \"sql\": {\"query\":'describe \"datasus-sinasc\"'}\n",
    "          }\n",
    "        }\n",
    "resp = requests.post(os.path.join(fc.url_base,'sql_query'), json=sql)\n",
    "fields = [x[0] for x in resp.json()['rows']]\n",
    "print(fields)"
   ]
  },
  {
   "cell_type": "code",
   "execution_count": null,
   "metadata": {},
   "outputs": [],
   "source": []
  }
 ],
 "metadata": {
  "kernelspec": {
   "display_name": "Python 3 (ipykernel)",
   "language": "python",
   "name": "python3"
  },
  "language_info": {
   "codemirror_mode": {
    "name": "ipython",
    "version": 3
   },
   "file_extension": ".py",
   "mimetype": "text/x-python",
   "name": "python",
   "nbconvert_exporter": "python",
   "pygments_lexer": "ipython3",
   "version": "3.8.10"
  },
  "toc-autonumbering": true,
  "toc-showcode": false,
  "toc-showmarkdowntxt": true
 },
 "nbformat": 4,
 "nbformat_minor": 4
}
